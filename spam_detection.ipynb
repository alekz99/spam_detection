{
 "cells": [
  {
   "cell_type": "markdown",
   "id": "7d91a1fa-0293-42e1-8eca-280e4340bd83",
   "metadata": {
    "tags": []
   },
   "source": [
    "# Классификация текстов (спам/не спам)"
   ]
  },
  {
   "cell_type": "code",
   "execution_count": 1,
   "id": "a53d9fa0-9c7c-429c-8a03-5f3169d7c738",
   "metadata": {},
   "outputs": [],
   "source": [
    "import pandas as pd\n",
    "import numpy as np\n",
    "import seaborn as sns\n",
    "import matplotlib.pyplot as plt\n",
    "\n",
    "import re\n",
    "from datetime import datetime\n",
    "import nltk\n",
    "from nltk.tokenize import word_tokenize\n",
    "from nltk.corpus import stopwords\n",
    "from nltk.stem import WordNetLemmatizer\n",
    "from nltk.stem import PorterStemmer\n",
    "from unidecode import unidecode\n",
    "\n",
    "from sklearn.model_selection import train_test_split\n",
    "from sklearn.feature_extraction.text import TfidfVectorizer\n",
    "from scipy.sparse import coo_matrix, hstack\n",
    "from sklearn.preprocessing import MinMaxScaler\n",
    "from sklearn.metrics import confusion_matrix\n",
    "from sklearn.metrics import classification_report\n",
    "from sklearn import metrics\n",
    "from sklearn.model_selection import GridSearchCV\n",
    "\n",
    "from sklearn.ensemble import RandomForestClassifier\n",
    "from sklearn.neighbors import KNeighborsClassifier  \n",
    "from sklearn.naive_bayes import MultinomialNB\n",
    "from sklearn.tree import DecisionTreeClassifier\n",
    "from sklearn.svm import SVC\n",
    "from sklearn.linear_model import LogisticRegression\n",
    "\n",
    "import warnings\n",
    "warnings.filterwarnings('ignore')\n",
    "\n",
    "SEED = 66"
   ]
  },
  {
   "cell_type": "code",
   "execution_count": 2,
   "id": "45c34f6e-9fe4-4a81-8059-d32c2186ed57",
   "metadata": {},
   "outputs": [
    {
     "data": {
      "text/html": [
       "<div>\n",
       "<style scoped>\n",
       "    .dataframe tbody tr th:only-of-type {\n",
       "        vertical-align: middle;\n",
       "    }\n",
       "\n",
       "    .dataframe tbody tr th {\n",
       "        vertical-align: top;\n",
       "    }\n",
       "\n",
       "    .dataframe thead th {\n",
       "        text-align: right;\n",
       "    }\n",
       "</style>\n",
       "<table border=\"1\" class=\"dataframe\">\n",
       "  <thead>\n",
       "    <tr style=\"text-align: right;\">\n",
       "      <th></th>\n",
       "      <th>class</th>\n",
       "      <th>date</th>\n",
       "      <th>from</th>\n",
       "      <th>to</th>\n",
       "      <th>subject</th>\n",
       "      <th>body</th>\n",
       "    </tr>\n",
       "  </thead>\n",
       "  <tbody>\n",
       "    <tr>\n",
       "      <th>0</th>\n",
       "      <td>0</td>\n",
       "      <td>2002-03-15T17:06:22</td>\n",
       "      <td>info@global-change.com</td>\n",
       "      <td>michelle.lokay@enron.com</td>\n",
       "      <td>Next Wave of Energy Trading</td>\n",
       "      <td>Energy Industry Professional:   Global Change...</td>\n",
       "    </tr>\n",
       "    <tr>\n",
       "      <th>1</th>\n",
       "      <td>0</td>\n",
       "      <td>2002-01-29T11:16:35</td>\n",
       "      <td>info@pmaconference.com</td>\n",
       "      <td>michelle.lokay@enron.com</td>\n",
       "      <td>Register for the Next TXU Capacity Auction!</td>\n",
       "      <td>Register for the next TXU Energy Capacity Auct...</td>\n",
       "    </tr>\n",
       "    <tr>\n",
       "      <th>2</th>\n",
       "      <td>0</td>\n",
       "      <td>2002-01-27T22:06:53</td>\n",
       "      <td>info@pmaconference.com</td>\n",
       "      <td>michelle.lokay@enron.com</td>\n",
       "      <td>Merchant Power Monthly   Free Sample</td>\n",
       "      <td>.................................................</td>\n",
       "    </tr>\n",
       "    <tr>\n",
       "      <th>3</th>\n",
       "      <td>0</td>\n",
       "      <td>2002-03-14T07:22:17</td>\n",
       "      <td>bruno@firstconf.com</td>\n",
       "      <td>energynews@fc.ease.lsoft.com</td>\n",
       "      <td>t,h: Eyeforenergy Update</td>\n",
       "      <td>Welcome to this week's Eyeforenergy Update.  J...</td>\n",
       "    </tr>\n",
       "    <tr>\n",
       "      <th>4</th>\n",
       "      <td>0</td>\n",
       "      <td>2002-03-05T03:51:53</td>\n",
       "      <td>deanrogers@energyclasses.com</td>\n",
       "      <td>michelle.lokay@enron.com</td>\n",
       "      <td>Derivatives Early Bird 'til March 11, Houston</td>\n",
       "      <td>Derivatives For Energy Professionals   Two Ful...</td>\n",
       "    </tr>\n",
       "    <tr>\n",
       "      <th>...</th>\n",
       "      <td>...</td>\n",
       "      <td>...</td>\n",
       "      <td>...</td>\n",
       "      <td>...</td>\n",
       "      <td>...</td>\n",
       "      <td>...</td>\n",
       "    </tr>\n",
       "    <tr>\n",
       "      <th>31710</th>\n",
       "      <td>1</td>\n",
       "      <td>2004-06-24T04:51:30</td>\n",
       "      <td>jacob rzucidlo &lt;lavoneaker@stalag13.com&gt;</td>\n",
       "      <td>johnny wynott &lt;varou@iit.demokritos.gr&gt;</td>\n",
       "      <td>Cpu PAIN M.edICATI0N... SHIPPED to Your D00R !</td>\n",
       "      <td>\\n\\n arrghh  wests  amnstv  amlsmith  basus\\n ...</td>\n",
       "    </tr>\n",
       "    <tr>\n",
       "      <th>31711</th>\n",
       "      <td>1</td>\n",
       "      <td>2004-06-19T23:52:54</td>\n",
       "      <td>hal leake &lt;annettgaskell@buglover.net&gt;</td>\n",
       "      <td>renato mooney &lt;sigletos@iit.demokritos.gr&gt;</td>\n",
       "      <td>Dn trouble f.r.ee</td>\n",
       "      <td>\\n\\n\\n\\n\\nDn trouble f.r.ee\\n\\n\\n\\nangiospasm ...</td>\n",
       "    </tr>\n",
       "    <tr>\n",
       "      <th>31712</th>\n",
       "      <td>1</td>\n",
       "      <td>2004-06-30T06:07:33</td>\n",
       "      <td>dr collins khumalo &lt;khumalo_20@sunumail.sn&gt;</td>\n",
       "      <td>khumalo_20@sunumail.sn</td>\n",
       "      <td>Dr.Collins Khumalo.</td>\n",
       "      <td>\\n\\n\\n\\n\\nDr.Collins Khumalo.\\n\\n\\n\\n\\n\\n\\n\\n\\...</td>\n",
       "    </tr>\n",
       "    <tr>\n",
       "      <th>31713</th>\n",
       "      <td>1</td>\n",
       "      <td>2004-10-10T12:00:18</td>\n",
       "      <td>Customer Support &lt;support@citibank.com&gt;</td>\n",
       "      <td>Paliourg &lt;paliourg@iit.demokritos.gr&gt;</td>\n",
       "      <td>Dear customer your details have been compromised</td>\n",
       "      <td>\\n\\n\\n\\n\\nDear customer your details have been...</td>\n",
       "    </tr>\n",
       "    <tr>\n",
       "      <th>31714</th>\n",
       "      <td>1</td>\n",
       "      <td>2004-12-26T12:34:43</td>\n",
       "      <td>Tapanga Cribbin &lt;James_Lam@cnwl.igs.net&gt;</td>\n",
       "      <td>paliourg@iit.demokritos.gr</td>\n",
       "      <td>Fwd: Great news</td>\n",
       "      <td>\\n\\nNo state shall, without the consent of the...</td>\n",
       "    </tr>\n",
       "  </tbody>\n",
       "</table>\n",
       "<p>31715 rows × 6 columns</p>\n",
       "</div>"
      ],
      "text/plain": [
       "       class                 date  \\\n",
       "0          0  2002-03-15T17:06:22   \n",
       "1          0  2002-01-29T11:16:35   \n",
       "2          0  2002-01-27T22:06:53   \n",
       "3          0  2002-03-14T07:22:17   \n",
       "4          0  2002-03-05T03:51:53   \n",
       "...      ...                  ...   \n",
       "31710      1  2004-06-24T04:51:30   \n",
       "31711      1  2004-06-19T23:52:54   \n",
       "31712      1  2004-06-30T06:07:33   \n",
       "31713      1  2004-10-10T12:00:18   \n",
       "31714      1  2004-12-26T12:34:43   \n",
       "\n",
       "                                              from  \\\n",
       "0                           info@global-change.com   \n",
       "1                           info@pmaconference.com   \n",
       "2                           info@pmaconference.com   \n",
       "3                              bruno@firstconf.com   \n",
       "4                     deanrogers@energyclasses.com   \n",
       "...                                            ...   \n",
       "31710     jacob rzucidlo <lavoneaker@stalag13.com>   \n",
       "31711       hal leake <annettgaskell@buglover.net>   \n",
       "31712  dr collins khumalo <khumalo_20@sunumail.sn>   \n",
       "31713      Customer Support <support@citibank.com>   \n",
       "31714     Tapanga Cribbin <James_Lam@cnwl.igs.net>   \n",
       "\n",
       "                                               to  \\\n",
       "0                        michelle.lokay@enron.com   \n",
       "1                        michelle.lokay@enron.com   \n",
       "2                        michelle.lokay@enron.com   \n",
       "3                    energynews@fc.ease.lsoft.com   \n",
       "4                        michelle.lokay@enron.com   \n",
       "...                                           ...   \n",
       "31710     johnny wynott <varou@iit.demokritos.gr>   \n",
       "31711  renato mooney <sigletos@iit.demokritos.gr>   \n",
       "31712                      khumalo_20@sunumail.sn   \n",
       "31713       Paliourg <paliourg@iit.demokritos.gr>   \n",
       "31714                  paliourg@iit.demokritos.gr   \n",
       "\n",
       "                                                subject  \\\n",
       "0                           Next Wave of Energy Trading   \n",
       "1           Register for the Next TXU Capacity Auction!   \n",
       "2                  Merchant Power Monthly   Free Sample   \n",
       "3                              t,h: Eyeforenergy Update   \n",
       "4         Derivatives Early Bird 'til March 11, Houston   \n",
       "...                                                 ...   \n",
       "31710    Cpu PAIN M.edICATI0N... SHIPPED to Your D00R !   \n",
       "31711                                 Dn trouble f.r.ee   \n",
       "31712                               Dr.Collins Khumalo.   \n",
       "31713  Dear customer your details have been compromised   \n",
       "31714                                   Fwd: Great news   \n",
       "\n",
       "                                                    body  \n",
       "0       Energy Industry Professional:   Global Change...  \n",
       "1      Register for the next TXU Energy Capacity Auct...  \n",
       "2      .................................................  \n",
       "3      Welcome to this week's Eyeforenergy Update.  J...  \n",
       "4      Derivatives For Energy Professionals   Two Ful...  \n",
       "...                                                  ...  \n",
       "31710  \\n\\n arrghh  wests  amnstv  amlsmith  basus\\n ...  \n",
       "31711  \\n\\n\\n\\n\\nDn trouble f.r.ee\\n\\n\\n\\nangiospasm ...  \n",
       "31712  \\n\\n\\n\\n\\nDr.Collins Khumalo.\\n\\n\\n\\n\\n\\n\\n\\n\\...  \n",
       "31713  \\n\\n\\n\\n\\nDear customer your details have been...  \n",
       "31714  \\n\\nNo state shall, without the consent of the...  \n",
       "\n",
       "[31715 rows x 6 columns]"
      ]
     },
     "execution_count": 2,
     "metadata": {},
     "output_type": "execute_result"
    }
   ],
   "source": [
    "data = pd.read_csv(\"Task_1_original_data.csv\")\n",
    "data"
   ]
  },
  {
   "cell_type": "markdown",
   "id": "c8e7dbde-5d2a-4f2e-94ff-26e6ebc7759e",
   "metadata": {
    "tags": []
   },
   "source": [
    "### Предварительный анализ данных"
   ]
  },
  {
   "cell_type": "markdown",
   "id": "bda96de3-51ee-4c3e-9158-1ea72f99ba9a",
   "metadata": {},
   "source": [
    "Набор данных включает в себя 31715 объетов, 5 атрибутов данных и 1 целевую переменную.\n",
    "\n",
    "Всего 5 атрибутов данных:\n",
    "1. **date** - интервальный признак, дата отправления письма\n",
    "2. **from** - категориальный признак, отправитель письма\n",
    "3. **to** - категориальный признак, получатель письма\n",
    "4. **subject** - категориальный признак, тема письма\n",
    "5. **body** - категориальный признак, содержание письма"
   ]
  },
  {
   "cell_type": "code",
   "execution_count": 3,
   "id": "41a08161-38d0-445b-856b-68eae2ba2dcc",
   "metadata": {},
   "outputs": [
    {
     "name": "stdout",
     "output_type": "stream",
     "text": [
      "<class 'pandas.core.frame.DataFrame'>\n",
      "RangeIndex: 31715 entries, 0 to 31714\n",
      "Data columns (total 6 columns):\n",
      " #   Column   Non-Null Count  Dtype         \n",
      "---  ------   --------------  -----         \n",
      " 0   target   31715 non-null  int64         \n",
      " 1   date     31561 non-null  datetime64[ns]\n",
      " 2   from     31702 non-null  object        \n",
      " 3   to       31048 non-null  object        \n",
      " 4   subject  31420 non-null  object        \n",
      " 5   body     31709 non-null  object        \n",
      "dtypes: datetime64[ns](1), int64(1), object(4)\n",
      "memory usage: 1.5+ MB\n"
     ]
    }
   ],
   "source": [
    "data['date'] = pd.to_datetime(data['date'], errors='coerce', format='%Y-%m-%dT%H:%M:%S')\n",
    "data.rename(columns = {'class' : 'target'}, inplace = True) \n",
    "data.info()"
   ]
  },
  {
   "cell_type": "markdown",
   "id": "3b56e8bd-b2a1-4815-9e56-9a87e2e56e56",
   "metadata": {},
   "source": [
    "Данные содержат пропуски, поэтому необходимо произвести обработку пропущенных значений"
   ]
  },
  {
   "cell_type": "code",
   "execution_count": 4,
   "id": "b30fa11e-011e-4002-87aa-87981e8938ac",
   "metadata": {},
   "outputs": [
    {
     "data": {
      "text/plain": [
       "target       0\n",
       "date       154\n",
       "from        13\n",
       "to         667\n",
       "subject    295\n",
       "body         6\n",
       "dtype: int64"
      ]
     },
     "execution_count": 4,
     "metadata": {},
     "output_type": "execute_result"
    }
   ],
   "source": [
    "data.isnull().sum()"
   ]
  },
  {
   "cell_type": "markdown",
   "id": "242818d2-c584-44be-b559-2d79fd67e9ec",
   "metadata": {},
   "source": [
    "Удалим строки, где не указана дата. Данные с пропущенным получателем, отправителем, темой и телом письма оставим"
   ]
  },
  {
   "cell_type": "code",
   "execution_count": 5,
   "id": "b1c9665e-e01a-4ff1-904b-9967020fc6e7",
   "metadata": {},
   "outputs": [
    {
     "data": {
      "text/plain": [
       "target       0\n",
       "date         0\n",
       "from         2\n",
       "to         656\n",
       "subject    283\n",
       "body         6\n",
       "dtype: int64"
      ]
     },
     "execution_count": 5,
     "metadata": {},
     "output_type": "execute_result"
    }
   ],
   "source": [
    "data.dropna(axis=0, how='any', subset=['date'], inplace=True)\n",
    "data.isnull().sum()"
   ]
  },
  {
   "cell_type": "markdown",
   "id": "2df5366d-1663-42b9-8339-a6adbe78a82e",
   "metadata": {},
   "source": [
    "### Изучение, обработка и генерация признаков"
   ]
  },
  {
   "cell_type": "markdown",
   "id": "9132e4b6-700c-411e-acc1-d754b780e899",
   "metadata": {
    "tags": []
   },
   "source": [
    "#### Обработка тела письма"
   ]
  },
  {
   "cell_type": "code",
   "execution_count": 6,
   "id": "33543fa7-a962-4817-abe4-d04b0c29a7d8",
   "metadata": {},
   "outputs": [],
   "source": [
    "# Объдинение темы и тела письма\n",
    "data['content'] = data['subject'] + ' ' + data['body']"
   ]
  },
  {
   "cell_type": "code",
   "execution_count": 7,
   "id": "e6781dba-ad4c-461c-b858-8b1794309831",
   "metadata": {},
   "outputs": [],
   "source": [
    "# Удаление url ссылок\n",
    "data['content'] = data['content'].str.lower().replace(r'\\b[a-z]*:\\/{2}\\S*\\s*', '', regex=True)\n",
    "# Удаление email адресов\n",
    "data['content'] = data['content'].str.lower().replace(r'[^@\\s]+@[^@\\s]+\\.[^@\\s]+', '', regex=True)"
   ]
  },
  {
   "cell_type": "code",
   "execution_count": 8,
   "id": "0287f29e-b3cc-410f-9908-4c454d9c5179",
   "metadata": {},
   "outputs": [
    {
     "name": "stderr",
     "output_type": "stream",
     "text": [
      "[nltk_data] Downloading package stopwords to\n",
      "[nltk_data]     C:\\Users\\Alexey\\AppData\\Roaming\\nltk_data...\n",
      "[nltk_data]   Package stopwords is already up-to-date!\n",
      "[nltk_data] Downloading package wordnet to\n",
      "[nltk_data]     C:\\Users\\Alexey\\AppData\\Roaming\\nltk_data...\n",
      "[nltk_data]   Package wordnet is already up-to-date!\n"
     ]
    }
   ],
   "source": [
    "nltk.download('stopwords')\n",
    "nltk.download('wordnet')\n",
    "\n",
    "wnl = WordNetLemmatizer()\n",
    "ps = PorterStemmer()\n",
    "    \n",
    "def preprocess(text):\n",
    "    result = []\n",
    "    \n",
    "    # Преобразование текста в ASCII\n",
    "    # Преобразование текста в нижний регистр и разбиение на токены\n",
    "    tokens = word_tokenize(unidecode(str(text)).lower())\n",
    "    \n",
    "    # Токен состоит из букв и не является стоп-словом\n",
    "    # Лемматизация и стемминг токена\n",
    "    for token in tokens:\n",
    "        if str.isalpha(token) and token not in stopwords.words('english'):\n",
    "            result.append(ps.stem(wnl.lemmatize(token)))\n",
    "    return ' '.join(result)"
   ]
  },
  {
   "cell_type": "code",
   "execution_count": 9,
   "id": "860c4643-1434-451a-b6ca-70614aadaca4",
   "metadata": {},
   "outputs": [
    {
     "name": "stdout",
     "output_type": "stream",
     "text": [
      "Wall time: 0 ns\n"
     ]
    }
   ],
   "source": [
    "%%time\n",
    "need_preprocess_text = False\n",
    "if need_preprocess_text:\n",
    "    data['clean_content'] = data.apply(lambda row: preprocess(row['content']), axis=1)\n",
    "    data.to_csv(\"clean_email.csv\", index=False)\n",
    "    data"
   ]
  },
  {
   "cell_type": "markdown",
   "id": "3c15e46b-edf4-43fb-826d-6619f1d64366",
   "metadata": {
    "tags": []
   },
   "source": [
    "#### Генерация признаков"
   ]
  },
  {
   "cell_type": "markdown",
   "id": "61ce0d52-3c31-4402-a923-d2761a3faa18",
   "metadata": {},
   "source": [
    "* Добавим признак, который отображает сколько писем пользователь отправил за час"
   ]
  },
  {
   "cell_type": "code",
   "execution_count": 10,
   "id": "3b2a8ed9-d966-4607-8441-7028836fbe56",
   "metadata": {},
   "outputs": [
    {
     "data": {
      "text/html": [
       "<div>\n",
       "<style scoped>\n",
       "    .dataframe tbody tr th:only-of-type {\n",
       "        vertical-align: middle;\n",
       "    }\n",
       "\n",
       "    .dataframe tbody tr th {\n",
       "        vertical-align: top;\n",
       "    }\n",
       "\n",
       "    .dataframe thead th {\n",
       "        text-align: right;\n",
       "    }\n",
       "</style>\n",
       "<table border=\"1\" class=\"dataframe\">\n",
       "  <thead>\n",
       "    <tr style=\"text-align: right;\">\n",
       "      <th></th>\n",
       "      <th>target</th>\n",
       "      <th>date</th>\n",
       "      <th>from</th>\n",
       "      <th>to</th>\n",
       "      <th>subject</th>\n",
       "      <th>body</th>\n",
       "      <th>content</th>\n",
       "      <th>clean_content</th>\n",
       "      <th>date_hour</th>\n",
       "      <th>mail_per_hour</th>\n",
       "    </tr>\n",
       "  </thead>\n",
       "  <tbody>\n",
       "    <tr>\n",
       "      <th>0</th>\n",
       "      <td>0</td>\n",
       "      <td>2002-03-15 17:06:22</td>\n",
       "      <td>info@global-change.com</td>\n",
       "      <td>michelle.lokay@enron.com</td>\n",
       "      <td>Next Wave of Energy Trading</td>\n",
       "      <td>Energy Industry Professional:   Global Change...</td>\n",
       "      <td>next wave of energy trading  energy industry p...</td>\n",
       "      <td>next wave energi trade energi industri profess...</td>\n",
       "      <td>2002-03-15 17:00:00</td>\n",
       "      <td>1</td>\n",
       "    </tr>\n",
       "    <tr>\n",
       "      <th>1</th>\n",
       "      <td>0</td>\n",
       "      <td>2002-01-29 11:16:35</td>\n",
       "      <td>info@pmaconference.com</td>\n",
       "      <td>michelle.lokay@enron.com</td>\n",
       "      <td>Register for the Next TXU Capacity Auction!</td>\n",
       "      <td>Register for the next TXU Energy Capacity Auct...</td>\n",
       "      <td>register for the next txu capacity auction! re...</td>\n",
       "      <td>regist next txu capac auction regist next txu ...</td>\n",
       "      <td>2002-01-29 11:00:00</td>\n",
       "      <td>1</td>\n",
       "    </tr>\n",
       "    <tr>\n",
       "      <th>2</th>\n",
       "      <td>0</td>\n",
       "      <td>2002-01-27 22:06:53</td>\n",
       "      <td>info@pmaconference.com</td>\n",
       "      <td>michelle.lokay@enron.com</td>\n",
       "      <td>Merchant Power Monthly   Free Sample</td>\n",
       "      <td>.................................................</td>\n",
       "      <td>merchant power monthly   free sample ............</td>\n",
       "      <td>merchant power monthli free sampl merchant pow...</td>\n",
       "      <td>2002-01-27 22:00:00</td>\n",
       "      <td>1</td>\n",
       "    </tr>\n",
       "    <tr>\n",
       "      <th>3</th>\n",
       "      <td>0</td>\n",
       "      <td>2002-03-14 07:22:17</td>\n",
       "      <td>bruno@firstconf.com</td>\n",
       "      <td>energynews@fc.ease.lsoft.com</td>\n",
       "      <td>t,h: Eyeforenergy Update</td>\n",
       "      <td>Welcome to this week's Eyeforenergy Update.  J...</td>\n",
       "      <td>t,h: eyeforenergy update welcome to this week'...</td>\n",
       "      <td>h eyeforenergi updat welcom week eyeforenergi ...</td>\n",
       "      <td>2002-03-14 07:00:00</td>\n",
       "      <td>1</td>\n",
       "    </tr>\n",
       "    <tr>\n",
       "      <th>4</th>\n",
       "      <td>0</td>\n",
       "      <td>2002-03-05 03:51:53</td>\n",
       "      <td>deanrogers@energyclasses.com</td>\n",
       "      <td>michelle.lokay@enron.com</td>\n",
       "      <td>Derivatives Early Bird 'til March 11, Houston</td>\n",
       "      <td>Derivatives For Energy Professionals   Two Ful...</td>\n",
       "      <td>derivatives early bird 'til march 11, houston ...</td>\n",
       "      <td>deriv earli bird march houston deriv energi pr...</td>\n",
       "      <td>2002-03-05 03:00:00</td>\n",
       "      <td>1</td>\n",
       "    </tr>\n",
       "    <tr>\n",
       "      <th>...</th>\n",
       "      <td>...</td>\n",
       "      <td>...</td>\n",
       "      <td>...</td>\n",
       "      <td>...</td>\n",
       "      <td>...</td>\n",
       "      <td>...</td>\n",
       "      <td>...</td>\n",
       "      <td>...</td>\n",
       "      <td>...</td>\n",
       "      <td>...</td>\n",
       "    </tr>\n",
       "    <tr>\n",
       "      <th>31554</th>\n",
       "      <td>1</td>\n",
       "      <td>2004-06-24 04:51:30</td>\n",
       "      <td>jacob rzucidlo &lt;lavoneaker@stalag13.com&gt;</td>\n",
       "      <td>johnny wynott &lt;varou@iit.demokritos.gr&gt;</td>\n",
       "      <td>Cpu PAIN M.edICATI0N... SHIPPED to Your D00R !</td>\n",
       "      <td>\\n\\n arrghh  wests  amnstv  amlsmith  basus\\n ...</td>\n",
       "      <td>cpu pain m.edicati0n... shipped to your d00r !...</td>\n",
       "      <td>cpu pain ship arrghh west amnstv amlsmith basu...</td>\n",
       "      <td>2004-06-24 04:00:00</td>\n",
       "      <td>1</td>\n",
       "    </tr>\n",
       "    <tr>\n",
       "      <th>31555</th>\n",
       "      <td>1</td>\n",
       "      <td>2004-06-19 23:52:54</td>\n",
       "      <td>hal leake &lt;annettgaskell@buglover.net&gt;</td>\n",
       "      <td>renato mooney &lt;sigletos@iit.demokritos.gr&gt;</td>\n",
       "      <td>Dn trouble f.r.ee</td>\n",
       "      <td>\\n\\n\\n\\n\\nDn trouble f.r.ee\\n\\n\\n\\nangiospasm ...</td>\n",
       "      <td>dn trouble f.r.ee \\n\\n\\n\\n\\ndn trouble f.r.ee\\...</td>\n",
       "      <td>dn troubl dn troubl angiospasm zekauska anarti...</td>\n",
       "      <td>2004-06-19 23:00:00</td>\n",
       "      <td>1</td>\n",
       "    </tr>\n",
       "    <tr>\n",
       "      <th>31556</th>\n",
       "      <td>1</td>\n",
       "      <td>2004-06-30 06:07:33</td>\n",
       "      <td>dr collins khumalo &lt;khumalo_20@sunumail.sn&gt;</td>\n",
       "      <td>khumalo_20@sunumail.sn</td>\n",
       "      <td>Dr.Collins Khumalo.</td>\n",
       "      <td>\\n\\n\\n\\n\\nDr.Collins Khumalo.\\n\\n\\n\\n\\n\\n\\n\\n\\...</td>\n",
       "      <td>dr.collins khumalo. \\n\\n\\n\\n\\ndr.collins khuma...</td>\n",
       "      <td>khumalo khumalo attn presid collin khumalo dir...</td>\n",
       "      <td>2004-06-30 06:00:00</td>\n",
       "      <td>1</td>\n",
       "    </tr>\n",
       "    <tr>\n",
       "      <th>31557</th>\n",
       "      <td>1</td>\n",
       "      <td>2004-10-10 12:00:18</td>\n",
       "      <td>Customer Support &lt;support@citibank.com&gt;</td>\n",
       "      <td>Paliourg &lt;paliourg@iit.demokritos.gr&gt;</td>\n",
       "      <td>Dear customer your details have been compromised</td>\n",
       "      <td>\\n\\n\\n\\n\\nDear customer your details have been...</td>\n",
       "      <td>dear customer your details have been compromis...</td>\n",
       "      <td>dear custom detail compromis dear custom detai...</td>\n",
       "      <td>2004-10-10 12:00:00</td>\n",
       "      <td>1</td>\n",
       "    </tr>\n",
       "    <tr>\n",
       "      <th>31558</th>\n",
       "      <td>1</td>\n",
       "      <td>2004-12-26 12:34:43</td>\n",
       "      <td>Tapanga Cribbin &lt;James_Lam@cnwl.igs.net&gt;</td>\n",
       "      <td>paliourg@iit.demokritos.gr</td>\n",
       "      <td>Fwd: Great news</td>\n",
       "      <td>\\n\\nNo state shall, without the consent of the...</td>\n",
       "      <td>fwd: great news \\n\\nno state shall, without th...</td>\n",
       "      <td>fwd great news state shall without consent con...</td>\n",
       "      <td>2004-12-26 12:00:00</td>\n",
       "      <td>1</td>\n",
       "    </tr>\n",
       "  </tbody>\n",
       "</table>\n",
       "<p>31559 rows × 10 columns</p>\n",
       "</div>"
      ],
      "text/plain": [
       "       target                date  \\\n",
       "0           0 2002-03-15 17:06:22   \n",
       "1           0 2002-01-29 11:16:35   \n",
       "2           0 2002-01-27 22:06:53   \n",
       "3           0 2002-03-14 07:22:17   \n",
       "4           0 2002-03-05 03:51:53   \n",
       "...       ...                 ...   \n",
       "31554       1 2004-06-24 04:51:30   \n",
       "31555       1 2004-06-19 23:52:54   \n",
       "31556       1 2004-06-30 06:07:33   \n",
       "31557       1 2004-10-10 12:00:18   \n",
       "31558       1 2004-12-26 12:34:43   \n",
       "\n",
       "                                              from  \\\n",
       "0                           info@global-change.com   \n",
       "1                           info@pmaconference.com   \n",
       "2                           info@pmaconference.com   \n",
       "3                              bruno@firstconf.com   \n",
       "4                     deanrogers@energyclasses.com   \n",
       "...                                            ...   \n",
       "31554     jacob rzucidlo <lavoneaker@stalag13.com>   \n",
       "31555       hal leake <annettgaskell@buglover.net>   \n",
       "31556  dr collins khumalo <khumalo_20@sunumail.sn>   \n",
       "31557      Customer Support <support@citibank.com>   \n",
       "31558     Tapanga Cribbin <James_Lam@cnwl.igs.net>   \n",
       "\n",
       "                                               to  \\\n",
       "0                        michelle.lokay@enron.com   \n",
       "1                        michelle.lokay@enron.com   \n",
       "2                        michelle.lokay@enron.com   \n",
       "3                    energynews@fc.ease.lsoft.com   \n",
       "4                        michelle.lokay@enron.com   \n",
       "...                                           ...   \n",
       "31554     johnny wynott <varou@iit.demokritos.gr>   \n",
       "31555  renato mooney <sigletos@iit.demokritos.gr>   \n",
       "31556                      khumalo_20@sunumail.sn   \n",
       "31557       Paliourg <paliourg@iit.demokritos.gr>   \n",
       "31558                  paliourg@iit.demokritos.gr   \n",
       "\n",
       "                                                subject  \\\n",
       "0                           Next Wave of Energy Trading   \n",
       "1           Register for the Next TXU Capacity Auction!   \n",
       "2                  Merchant Power Monthly   Free Sample   \n",
       "3                              t,h: Eyeforenergy Update   \n",
       "4         Derivatives Early Bird 'til March 11, Houston   \n",
       "...                                                 ...   \n",
       "31554    Cpu PAIN M.edICATI0N... SHIPPED to Your D00R !   \n",
       "31555                                 Dn trouble f.r.ee   \n",
       "31556                               Dr.Collins Khumalo.   \n",
       "31557  Dear customer your details have been compromised   \n",
       "31558                                   Fwd: Great news   \n",
       "\n",
       "                                                    body  \\\n",
       "0       Energy Industry Professional:   Global Change...   \n",
       "1      Register for the next TXU Energy Capacity Auct...   \n",
       "2      .................................................   \n",
       "3      Welcome to this week's Eyeforenergy Update.  J...   \n",
       "4      Derivatives For Energy Professionals   Two Ful...   \n",
       "...                                                  ...   \n",
       "31554  \\n\\n arrghh  wests  amnstv  amlsmith  basus\\n ...   \n",
       "31555  \\n\\n\\n\\n\\nDn trouble f.r.ee\\n\\n\\n\\nangiospasm ...   \n",
       "31556  \\n\\n\\n\\n\\nDr.Collins Khumalo.\\n\\n\\n\\n\\n\\n\\n\\n\\...   \n",
       "31557  \\n\\n\\n\\n\\nDear customer your details have been...   \n",
       "31558  \\n\\nNo state shall, without the consent of the...   \n",
       "\n",
       "                                                 content  \\\n",
       "0      next wave of energy trading  energy industry p...   \n",
       "1      register for the next txu capacity auction! re...   \n",
       "2      merchant power monthly   free sample ............   \n",
       "3      t,h: eyeforenergy update welcome to this week'...   \n",
       "4      derivatives early bird 'til march 11, houston ...   \n",
       "...                                                  ...   \n",
       "31554  cpu pain m.edicati0n... shipped to your d00r !...   \n",
       "31555  dn trouble f.r.ee \\n\\n\\n\\n\\ndn trouble f.r.ee\\...   \n",
       "31556  dr.collins khumalo. \\n\\n\\n\\n\\ndr.collins khuma...   \n",
       "31557  dear customer your details have been compromis...   \n",
       "31558  fwd: great news \\n\\nno state shall, without th...   \n",
       "\n",
       "                                           clean_content           date_hour  \\\n",
       "0      next wave energi trade energi industri profess... 2002-03-15 17:00:00   \n",
       "1      regist next txu capac auction regist next txu ... 2002-01-29 11:00:00   \n",
       "2      merchant power monthli free sampl merchant pow... 2002-01-27 22:00:00   \n",
       "3      h eyeforenergi updat welcom week eyeforenergi ... 2002-03-14 07:00:00   \n",
       "4      deriv earli bird march houston deriv energi pr... 2002-03-05 03:00:00   \n",
       "...                                                  ...                 ...   \n",
       "31554  cpu pain ship arrghh west amnstv amlsmith basu... 2004-06-24 04:00:00   \n",
       "31555  dn troubl dn troubl angiospasm zekauska anarti... 2004-06-19 23:00:00   \n",
       "31556  khumalo khumalo attn presid collin khumalo dir... 2004-06-30 06:00:00   \n",
       "31557  dear custom detail compromis dear custom detai... 2004-10-10 12:00:00   \n",
       "31558  fwd great news state shall without consent con... 2004-12-26 12:00:00   \n",
       "\n",
       "       mail_per_hour  \n",
       "0                  1  \n",
       "1                  1  \n",
       "2                  1  \n",
       "3                  1  \n",
       "4                  1  \n",
       "...              ...  \n",
       "31554              1  \n",
       "31555              1  \n",
       "31556              1  \n",
       "31557              1  \n",
       "31558              1  \n",
       "\n",
       "[31559 rows x 10 columns]"
      ]
     },
     "execution_count": 10,
     "metadata": {},
     "output_type": "execute_result"
    }
   ],
   "source": [
    "data = pd.read_csv(\"clean_email.csv\")\n",
    "data['date'] = pd.to_datetime(data['date'], format='%Y-%m-%dT%H:%M:%S')\n",
    "\n",
    "def date_transform(date):\n",
    "    return datetime(date.year, date.month, date.day, date.hour)\n",
    "    \n",
    "data['date_hour'] = data.apply(lambda row: date_transform(row['date']), axis=1)\n",
    "data_mail_per_hour = data.groupby(['from', 'date_hour'], as_index=False)['content'].count()\n",
    "data = pd.merge(data, data_mail_per_hour, on=['from', 'date_hour'])\n",
    "data.rename(columns = {'content_x' : 'content', 'content_y' : 'mail_per_hour'}, inplace = True) \n",
    "data"
   ]
  },
  {
   "cell_type": "markdown",
   "id": "87f32353-40e7-4f90-bf9e-bf69c9415511",
   "metadata": {},
   "source": [
    "* Добавим признак, который отображает количество токенов в письме"
   ]
  },
  {
   "cell_type": "code",
   "execution_count": 11,
   "id": "e6976120-5ea4-4998-9d7b-6fe01937c25c",
   "metadata": {},
   "outputs": [],
   "source": [
    "data['token_count'] = data['clean_content'].apply(lambda x: len(str(x).split()))"
   ]
  },
  {
   "cell_type": "markdown",
   "id": "a65bed8e-8389-447d-8a93-9964da42b546",
   "metadata": {},
   "source": [
    "* Добавим признак, который отображает день недели"
   ]
  },
  {
   "cell_type": "code",
   "execution_count": 12,
   "id": "bb5623f6-4776-4705-9fe5-f348eab90daf",
   "metadata": {},
   "outputs": [],
   "source": [
    "def get_day_week(date):\n",
    "    return datetime(date.year, date.month, date.day, date.hour)\n",
    "\n",
    "data['day_week'] = data.apply(lambda row: row['date'].weekday(), axis=1)"
   ]
  },
  {
   "cell_type": "markdown",
   "id": "bf8fb41e-417c-4956-b3d3-23e7c63e05fb",
   "metadata": {},
   "source": [
    "* Добавим признак, который отображает временной промежуток, в которое было отправлено письмо"
   ]
  },
  {
   "cell_type": "code",
   "execution_count": 13,
   "id": "a6d4a0ca-0e65-45c0-b429-ac7143f87129",
   "metadata": {},
   "outputs": [],
   "source": [
    "def get_time_period(date):\n",
    "    hour = date.hour\n",
    "    if 0 <= hour < 3:\n",
    "        return 0\n",
    "    elif 3 <= hour < 6:\n",
    "        return 1\n",
    "    elif 6 <= hour < 9:\n",
    "        return 2\n",
    "    elif 9 <= hour < 12:\n",
    "        return 3\n",
    "    elif 12 <= hour < 15:\n",
    "        return 4\n",
    "    elif 15 <= hour < 18:\n",
    "        return 5\n",
    "    elif 18 <= hour < 21:\n",
    "        return 6\n",
    "    else:\n",
    "        return 7\n",
    "\n",
    "data['time_period'] = data.apply(lambda row: get_time_period(row['date']), axis=1)"
   ]
  },
  {
   "cell_type": "markdown",
   "id": "a5a4eed4-9878-4df7-9c53-a5d5e97065a1",
   "metadata": {},
   "source": [
    "* Добавим признак, который отображает наличие темы письма"
   ]
  },
  {
   "cell_type": "code",
   "execution_count": 14,
   "id": "89d22620-fa53-45ea-91a8-af199b77a753",
   "metadata": {},
   "outputs": [],
   "source": [
    "data['have_subject'] = data['subject'].apply(lambda x: 0 if pd.isnull(x) else 1)"
   ]
  },
  {
   "cell_type": "markdown",
   "id": "fcb549d0-bd82-4807-bcde-9d5e09a8b00e",
   "metadata": {},
   "source": [
    "* Добавим признак, который показывает пустое ли письмо"
   ]
  },
  {
   "cell_type": "code",
   "execution_count": 15,
   "id": "e31393d5-86bd-46d1-b942-4a54cffa13c6",
   "metadata": {},
   "outputs": [],
   "source": [
    "data['have_body'] = data['body'].apply(lambda x: 0 if pd.isnull(x) else 1)"
   ]
  },
  {
   "cell_type": "markdown",
   "id": "c8193898-b985-4b0b-be6c-1e13bac8ba59",
   "metadata": {
    "tags": []
   },
   "source": [
    "#### Анализ признаков"
   ]
  },
  {
   "cell_type": "markdown",
   "id": "fdcaa76c-04b0-4616-89f2-fb1c1dee01db",
   "metadata": {},
   "source": [
    "* Распределение целевого класса"
   ]
  },
  {
   "cell_type": "code",
   "execution_count": 16,
   "id": "b59a4240-3026-44f1-a0a6-77c5e8ab75d6",
   "metadata": {},
   "outputs": [
    {
     "data": {
      "text/plain": [
       "<AxesSubplot:xlabel='target', ylabel='count'>"
      ]
     },
     "execution_count": 16,
     "metadata": {},
     "output_type": "execute_result"
    },
    {
     "data": {
      "image/png": "[encoded data removed]",
      "text/plain": [
       "<Figure size 432x288 with 1 Axes>"
      ]
     },
     "metadata": {
      "needs_background": "light"
     },
     "output_type": "display_data"
    }
   ],
   "source": [
    "sns.countplot(x='target', data=data)"
   ]
  },
  {
   "cell_type": "markdown",
   "id": "38221ff2-6120-4dd5-b4c9-0ef2d9f4197c",
   "metadata": {},
   "source": [
    "* Распределение количества отправленных за час писем"
   ]
  },
  {
   "cell_type": "code",
   "execution_count": 17,
   "id": "d78c80ee-6e20-4cfa-bf1e-e24efc991f8d",
   "metadata": {},
   "outputs": [
    {
     "data": {
      "image/png": "[encoded data removed]",
      "text/plain": [
       "<Figure size 720x288 with 2 Axes>"
      ]
     },
     "metadata": {
      "needs_background": "light"
     },
     "output_type": "display_data"
    }
   ],
   "source": [
    "fig, (ax1, ax2) = plt.subplots(1, 2, figsize=(10, 4))\n",
    "ax1.hist(data[data['target'] == 0]['mail_per_hour'], color='green')\n",
    "ax1.set_title('Не спам')\n",
    "ax2.hist(data[data['target'] == 1]['mail_per_hour'], color='red')\n",
    "ax2.set_title('Спам')\n",
    "fig.suptitle('Распределение количества отправленных за час писем')\n",
    "plt.show()"
   ]
  },
  {
   "cell_type": "markdown",
   "id": "4183b96a-9ad7-4285-b092-37e924664ce0",
   "metadata": {},
   "source": [
    "* Распределение токенов в письме"
   ]
  },
  {
   "cell_type": "code",
   "execution_count": 18,
   "id": "8ede1d22-88db-4d05-903c-4319d1001c7d",
   "metadata": {},
   "outputs": [
    {
     "data": {
      "image/png": "[encoded data removed]",
      "text/plain": [
       "<Figure size 1080x1440 with 2 Axes>"
      ]
     },
     "metadata": {
      "needs_background": "light"
     },
     "output_type": "display_data"
    }
   ],
   "source": [
    "fig, axes = plt.subplots(nrows=1, ncols=2, figsize=(15, 20))\n",
    "sns.boxplot(data=data.loc[data.target == 0, 'token_count'].values, ax=axes[0])\n",
    "sns.boxplot(data=data.loc[data.target == 1, 'token_count'].values, ax=axes[1])\n",
    "axes[0].set_title('Не спам')\n",
    "axes[1].set_title('Спам')\n",
    "fig.suptitle('Количество токенов в письме')\n",
    "plt.show()"
   ]
  },
  {
   "cell_type": "markdown",
   "id": "57e6a291-9109-4e92-b23d-827947c7da52",
   "metadata": {},
   "source": [
    "* Посмотрим взаимодействие признаков"
   ]
  },
  {
   "cell_type": "code",
   "execution_count": 19,
   "id": "1fee7164-cd0c-4b31-9c7d-7beb0ffa3af1",
   "metadata": {},
   "outputs": [
    {
     "data": {
      "text/plain": [
       "<AxesSubplot:>"
      ]
     },
     "execution_count": 19,
     "metadata": {},
     "output_type": "execute_result"
    },
    {
     "data": {
      "image/png": "[encoded data removed]",
      "text/plain": [
       "<Figure size 432x288 with 2 Axes>"
      ]
     },
     "metadata": {
      "needs_background": "light"
     },
     "output_type": "display_data"
    }
   ],
   "source": [
    "corr_matrix = data[['mail_per_hour', 'token_count', 'target']].corr(method='spearman')\n",
    "corr_matrix\n",
    "\n",
    "sns.heatmap(corr_matrix, annot=True, annot_kws={\"size\":12})"
   ]
  },
  {
   "cell_type": "markdown",
   "id": "976bc334-8347-4811-bf51-ad829f392b66",
   "metadata": {},
   "source": [
    "* Распределение писем в зависимости от дня недели (0 - понедельник)"
   ]
  },
  {
   "cell_type": "code",
   "execution_count": 20,
   "id": "38d43fcf-626e-456f-835d-d6a3ec41c326",
   "metadata": {},
   "outputs": [
    {
     "data": {
      "text/plain": [
       "<AxesSubplot:xlabel='day_week', ylabel='count'>"
      ]
     },
     "execution_count": 20,
     "metadata": {},
     "output_type": "execute_result"
    },
    {
     "data": {
      "image/png": "[encoded data removed]",
      "text/plain": [
       "<Figure size 432x288 with 1 Axes>"
      ]
     },
     "metadata": {
      "needs_background": "light"
     },
     "output_type": "display_data"
    }
   ],
   "source": [
    "sns.countplot(x='day_week', hue='target', data=data)"
   ]
  },
  {
   "cell_type": "markdown",
   "id": "fc80f8a7-75a7-4e09-a9b4-dd9017349cd1",
   "metadata": {},
   "source": [
    "* Распределение писем от временного периода"
   ]
  },
  {
   "cell_type": "code",
   "execution_count": 21,
   "id": "1b98b3c7-5c17-4896-97bc-b09db01025af",
   "metadata": {},
   "outputs": [
    {
     "data": {
      "text/plain": [
       "<AxesSubplot:xlabel='time_period', ylabel='count'>"
      ]
     },
     "execution_count": 21,
     "metadata": {},
     "output_type": "execute_result"
    },
    {
     "data": {
      "image/png": "[encoded data removed]",
      "text/plain": [
       "<Figure size 432x288 with 1 Axes>"
      ]
     },
     "metadata": {
      "needs_background": "light"
     },
     "output_type": "display_data"
    }
   ],
   "source": [
    "sns.countplot(x='time_period', hue='target', data=data)"
   ]
  },
  {
   "cell_type": "markdown",
   "id": "7c9204d9-08f6-4068-9c4c-837f81a25f24",
   "metadata": {},
   "source": [
    "* Распределение писем от наличия темы письма"
   ]
  },
  {
   "cell_type": "code",
   "execution_count": 22,
   "id": "48ee3a4c-e676-4db5-b83a-7cbc428b5c2c",
   "metadata": {},
   "outputs": [
    {
     "data": {
      "text/plain": [
       "<AxesSubplot:xlabel='have_subject', ylabel='count'>"
      ]
     },
     "execution_count": 22,
     "metadata": {},
     "output_type": "execute_result"
    },
    {
     "data": {
      "image/png": "[encoded data removed]",
      "text/plain": [
       "<Figure size 432x288 with 1 Axes>"
      ]
     },
     "metadata": {
      "needs_background": "light"
     },
     "output_type": "display_data"
    }
   ],
   "source": [
    "sns.countplot(x='have_subject', hue='target', data=data)"
   ]
  },
  {
   "cell_type": "markdown",
   "id": "87e64f9c-d62d-4fdb-b5cc-f42d02e583c7",
   "metadata": {},
   "source": [
    "* Распределение писем от наличия тела письма"
   ]
  },
  {
   "cell_type": "code",
   "execution_count": 23,
   "id": "fbe571a9-340b-4b69-af21-20d709ecd1ca",
   "metadata": {},
   "outputs": [
    {
     "data": {
      "text/plain": [
       "<AxesSubplot:xlabel='have_body', ylabel='count'>"
      ]
     },
     "execution_count": 23,
     "metadata": {},
     "output_type": "execute_result"
    },
    {
     "data": {
      "image/png": "[encoded data removed]",
      "text/plain": [
       "<Figure size 432x288 with 1 Axes>"
      ]
     },
     "metadata": {
      "needs_background": "light"
     },
     "output_type": "display_data"
    }
   ],
   "source": [
    "sns.countplot(x='have_body', hue='target', data=data)"
   ]
  },
  {
   "cell_type": "markdown",
   "id": "452725dd-c87d-4831-935e-49a33fb842ba",
   "metadata": {},
   "source": [
    "Выводы: \n",
    "\n",
    "1. Между абсолютными признаками и целевой переменной нет линейной зависимости\n",
    "2. Если пользователь отправил более 10 писем за час, то с большой вероятностью это спам\n",
    "3. Есть зависимость от дня отправки письма\n",
    "4. Есть зависимость от временного периода отправления письма"
   ]
  },
  {
   "cell_type": "markdown",
   "id": "94955da2-4224-4d9c-81f2-59f094ddd865",
   "metadata": {},
   "source": [
    "### Метрика качества и разделение набора данных"
   ]
  },
  {
   "cell_type": "markdown",
   "id": "8f93e5f3-cc1b-45a6-b1a3-c009741dc172",
   "metadata": {},
   "source": [
    "Для оценки моделей будем использовать метрику auc_roc"
   ]
  },
  {
   "cell_type": "code",
   "execution_count": 24,
   "id": "aad74b8b-c0b3-4281-9596-c61b2cef1ef0",
   "metadata": {},
   "outputs": [],
   "source": [
    "# модель, которая анализирует только текст\n",
    "X = data['clean_content']\n",
    "\n",
    "# комбинированные данные\n",
    "X_comb = data[['mail_per_hour', 'token_count', 'day_week', 'time_period', 'have_subject', 'have_body', 'clean_content']]\n",
    "y = data['target']\n",
    "\n",
    "X_train, X_test, y_train, y_test = train_test_split(X, y, test_size=0.15, random_state=SEED, shuffle=True, stratify=y)\n",
    "\n",
    "X_comb_train, X_comb_test, y_comb_train, y_comb_test = train_test_split(X_comb, y, test_size=0.15, random_state=SEED, stratify=y)"
   ]
  },
  {
   "cell_type": "code",
   "execution_count": 25,
   "id": "af8364a0-5896-477c-ac68-b241452145ea",
   "metadata": {},
   "outputs": [
    {
     "data": {
      "text/plain": [
       "25236    comput product sale comput shop network deliv ...\n",
       "25493    comput product sale comput shop network deliv ...\n",
       "8485     si server unavail today wednesday juli urgent ...\n",
       "26922    full color postcard untitl document pure postc...\n",
       "10779    thank use dear louis thank use submit registr ...\n",
       "                               ...                        \n",
       "1185     unit way time enron unit way campaign year the...\n",
       "13716    talk u last sever year receiv numer question c...\n",
       "30830    starv eat creami teen hi daddi hot erupt pusss...\n",
       "9040     credit number repres approxim mm well optim un...\n",
       "5583     ye sound great messag farmer daren sent monday...\n",
       "Name: clean_content, Length: 26825, dtype: object"
      ]
     },
     "execution_count": 25,
     "metadata": {},
     "output_type": "execute_result"
    }
   ],
   "source": [
    "X_train"
   ]
  },
  {
   "cell_type": "code",
   "execution_count": 26,
   "id": "0ae7ba21-33c1-4217-b964-73605e9ba3ea",
   "metadata": {},
   "outputs": [
    {
     "data": {
      "text/html": [
       "<div>\n",
       "<style scoped>\n",
       "    .dataframe tbody tr th:only-of-type {\n",
       "        vertical-align: middle;\n",
       "    }\n",
       "\n",
       "    .dataframe tbody tr th {\n",
       "        vertical-align: top;\n",
       "    }\n",
       "\n",
       "    .dataframe thead th {\n",
       "        text-align: right;\n",
       "    }\n",
       "</style>\n",
       "<table border=\"1\" class=\"dataframe\">\n",
       "  <thead>\n",
       "    <tr style=\"text-align: right;\">\n",
       "      <th></th>\n",
       "      <th>mail_per_hour</th>\n",
       "      <th>token_count</th>\n",
       "      <th>day_week</th>\n",
       "      <th>time_period</th>\n",
       "      <th>have_subject</th>\n",
       "      <th>have_body</th>\n",
       "      <th>clean_content</th>\n",
       "    </tr>\n",
       "  </thead>\n",
       "  <tbody>\n",
       "    <tr>\n",
       "      <th>25236</th>\n",
       "      <td>11</td>\n",
       "      <td>46</td>\n",
       "      <td>5</td>\n",
       "      <td>1</td>\n",
       "      <td>1</td>\n",
       "      <td>1</td>\n",
       "      <td>comput product sale comput shop network deliv ...</td>\n",
       "    </tr>\n",
       "    <tr>\n",
       "      <th>25493</th>\n",
       "      <td>14</td>\n",
       "      <td>46</td>\n",
       "      <td>4</td>\n",
       "      <td>7</td>\n",
       "      <td>1</td>\n",
       "      <td>1</td>\n",
       "      <td>comput product sale comput shop network deliv ...</td>\n",
       "    </tr>\n",
       "    <tr>\n",
       "      <th>8485</th>\n",
       "      <td>1</td>\n",
       "      <td>98</td>\n",
       "      <td>2</td>\n",
       "      <td>3</td>\n",
       "      <td>1</td>\n",
       "      <td>1</td>\n",
       "      <td>si server unavail today wednesday juli urgent ...</td>\n",
       "    </tr>\n",
       "    <tr>\n",
       "      <th>26922</th>\n",
       "      <td>3</td>\n",
       "      <td>13</td>\n",
       "      <td>4</td>\n",
       "      <td>3</td>\n",
       "      <td>1</td>\n",
       "      <td>1</td>\n",
       "      <td>full color postcard untitl document pure postc...</td>\n",
       "    </tr>\n",
       "    <tr>\n",
       "      <th>10779</th>\n",
       "      <td>3</td>\n",
       "      <td>185</td>\n",
       "      <td>2</td>\n",
       "      <td>4</td>\n",
       "      <td>1</td>\n",
       "      <td>1</td>\n",
       "      <td>thank use dear louis thank use submit registr ...</td>\n",
       "    </tr>\n",
       "    <tr>\n",
       "      <th>...</th>\n",
       "      <td>...</td>\n",
       "      <td>...</td>\n",
       "      <td>...</td>\n",
       "      <td>...</td>\n",
       "      <td>...</td>\n",
       "      <td>...</td>\n",
       "      <td>...</td>\n",
       "    </tr>\n",
       "    <tr>\n",
       "      <th>1185</th>\n",
       "      <td>1</td>\n",
       "      <td>80</td>\n",
       "      <td>0</td>\n",
       "      <td>3</td>\n",
       "      <td>1</td>\n",
       "      <td>1</td>\n",
       "      <td>unit way time enron unit way campaign year the...</td>\n",
       "    </tr>\n",
       "    <tr>\n",
       "      <th>13716</th>\n",
       "      <td>1</td>\n",
       "      <td>142</td>\n",
       "      <td>2</td>\n",
       "      <td>4</td>\n",
       "      <td>1</td>\n",
       "      <td>1</td>\n",
       "      <td>talk u last sever year receiv numer question c...</td>\n",
       "    </tr>\n",
       "    <tr>\n",
       "      <th>30830</th>\n",
       "      <td>1</td>\n",
       "      <td>20</td>\n",
       "      <td>0</td>\n",
       "      <td>6</td>\n",
       "      <td>1</td>\n",
       "      <td>1</td>\n",
       "      <td>starv eat creami teen hi daddi hot erupt pusss...</td>\n",
       "    </tr>\n",
       "    <tr>\n",
       "      <th>9040</th>\n",
       "      <td>1</td>\n",
       "      <td>167</td>\n",
       "      <td>0</td>\n",
       "      <td>4</td>\n",
       "      <td>1</td>\n",
       "      <td>1</td>\n",
       "      <td>credit number repres approxim mm well optim un...</td>\n",
       "    </tr>\n",
       "    <tr>\n",
       "      <th>5583</th>\n",
       "      <td>1</td>\n",
       "      <td>46</td>\n",
       "      <td>1</td>\n",
       "      <td>2</td>\n",
       "      <td>1</td>\n",
       "      <td>1</td>\n",
       "      <td>ye sound great messag farmer daren sent monday...</td>\n",
       "    </tr>\n",
       "  </tbody>\n",
       "</table>\n",
       "<p>26825 rows × 7 columns</p>\n",
       "</div>"
      ],
      "text/plain": [
       "       mail_per_hour  token_count  day_week  time_period  have_subject  \\\n",
       "25236             11           46         5            1             1   \n",
       "25493             14           46         4            7             1   \n",
       "8485               1           98         2            3             1   \n",
       "26922              3           13         4            3             1   \n",
       "10779              3          185         2            4             1   \n",
       "...              ...          ...       ...          ...           ...   \n",
       "1185               1           80         0            3             1   \n",
       "13716              1          142         2            4             1   \n",
       "30830              1           20         0            6             1   \n",
       "9040               1          167         0            4             1   \n",
       "5583               1           46         1            2             1   \n",
       "\n",
       "       have_body                                      clean_content  \n",
       "25236          1  comput product sale comput shop network deliv ...  \n",
       "25493          1  comput product sale comput shop network deliv ...  \n",
       "8485           1  si server unavail today wednesday juli urgent ...  \n",
       "26922          1  full color postcard untitl document pure postc...  \n",
       "10779          1  thank use dear louis thank use submit registr ...  \n",
       "...          ...                                                ...  \n",
       "1185           1  unit way time enron unit way campaign year the...  \n",
       "13716          1  talk u last sever year receiv numer question c...  \n",
       "30830          1  starv eat creami teen hi daddi hot erupt pusss...  \n",
       "9040           1  credit number repres approxim mm well optim un...  \n",
       "5583           1  ye sound great messag farmer daren sent monday...  \n",
       "\n",
       "[26825 rows x 7 columns]"
      ]
     },
     "execution_count": 26,
     "metadata": {},
     "output_type": "execute_result"
    }
   ],
   "source": [
    "X_comb_train"
   ]
  },
  {
   "cell_type": "markdown",
   "id": "dca2290e-f40e-4ae6-895a-c04d3caeb8a6",
   "metadata": {
    "tags": []
   },
   "source": [
    "### Векторизация текста"
   ]
  },
  {
   "cell_type": "markdown",
   "id": "4d16e608-665e-4539-85d0-f6eb30d4ccf9",
   "metadata": {
    "tags": []
   },
   "source": [
    "#### TF-IDF"
   ]
  },
  {
   "cell_type": "code",
   "execution_count": 27,
   "id": "4910f8bd-a9b6-4361-82a9-efdd66b1fa2a",
   "metadata": {},
   "outputs": [],
   "source": [
    "X_train_tfidf, X_test_tfidf = X_train, X_test\n",
    "\n",
    "X_comb_train_tfidf, X_comb_test_tfidf = X_comb_train['clean_content'], X_comb_test['clean_content']\n",
    "\n",
    "tfidf_vectorizer = TfidfVectorizer(lowercase=False, use_idf=True, sublinear_tf=True)\n",
    "X_train_tfidf = tfidf_vectorizer.fit_transform(X_train_tfidf.values.astype('str'))\n",
    "X_test_tfidf = tfidf_vectorizer.transform(X_test_tfidf.values.astype('str'))"
   ]
  },
  {
   "cell_type": "code",
   "execution_count": 28,
   "id": "89a2bdc6-ee91-41d3-9efd-eb2f1da521ac",
   "metadata": {},
   "outputs": [],
   "source": [
    "tfidf_vectorizer_comb = TfidfVectorizer(lowercase=False, use_idf=True, sublinear_tf=True)\n",
    "X_comb_train_tfidf = tfidf_vectorizer_comb.fit_transform(X_comb_train_tfidf.values.astype('str'))\n",
    "X_comb_test_tfidf = tfidf_vectorizer_comb.transform(X_comb_test_tfidf.values.astype('str'))\n",
    "\n",
    "scaler = MinMaxScaler()  \n",
    "X_comb_train_std = scaler.fit_transform(X_comb_train[['mail_per_hour', 'token_count', 'day_week', 'time_period', 'have_subject', 'have_body']])  \n",
    "X_comb_test_std = scaler.transform(X_comb_test[['mail_per_hour', 'token_count', 'day_week', 'time_period', 'have_subject', 'have_body']])\n",
    "\n",
    "X_comb_train_res = hstack([coo_matrix(X_comb_train_std), X_comb_train_tfidf])#.toarray()\n",
    "X_comb_test_res = hstack([coo_matrix(X_comb_test_std), X_comb_test_tfidf])#.toarray()"
   ]
  },
  {
   "cell_type": "code",
   "execution_count": 29,
   "id": "553050a1-9f06-45fb-81aa-e4cb51e956b5",
   "metadata": {},
   "outputs": [
    {
     "data": {
      "text/plain": [
       "<26825x77965 sparse matrix of type '<class 'numpy.float64'>'\n",
       "\twith 2117658 stored elements in COOrdinate format>"
      ]
     },
     "execution_count": 29,
     "metadata": {},
     "output_type": "execute_result"
    }
   ],
   "source": [
    "X_comb_train_res"
   ]
  },
  {
   "cell_type": "markdown",
   "id": "53aab39b-a4a3-452d-90fc-6fb8ba025f4c",
   "metadata": {
    "tags": []
   },
   "source": [
    "### Обучение моделей"
   ]
  },
  {
   "cell_type": "markdown",
   "id": "865f86d7-5b11-4b57-9af2-e7108d2fa32d",
   "metadata": {
    "tags": []
   },
   "source": [
    "#### KNN"
   ]
  },
  {
   "cell_type": "code",
   "execution_count": 30,
   "id": "47bca31e-0638-479a-a83b-42401cb78fd1",
   "metadata": {},
   "outputs": [
    {
     "name": "stdout",
     "output_type": "stream",
     "text": [
      "Wall time: 3min 2s\n"
     ]
    }
   ],
   "source": [
    "%%time\n",
    "grid_params = {\n",
    "    'n_neighbors': [x for x in range(5, 11)],\n",
    "    'weights': ['uniform', 'distance'],\n",
    "    'metric': ['euclidean']\n",
    "}\n",
    "\n",
    "gs = GridSearchCV(\n",
    "    KNeighborsClassifier(),\n",
    "    grid_params,\n",
    "    scoring='roc_auc',\n",
    "    n_jobs=-1,\n",
    "    cv=5\n",
    ")\n",
    "\n",
    "gs_results = gs.fit(X_train_tfidf, y_train)"
   ]
  },
  {
   "cell_type": "code",
   "execution_count": 31,
   "id": "23198dff-b1cd-4e67-ae4d-02b39c8ba952",
   "metadata": {},
   "outputs": [
    {
     "data": {
      "text/plain": [
       "{'metric': 'euclidean', 'n_neighbors': 10, 'weights': 'distance'}"
      ]
     },
     "execution_count": 31,
     "metadata": {},
     "output_type": "execute_result"
    }
   ],
   "source": [
    "gs_results.best_params_"
   ]
  },
  {
   "cell_type": "code",
   "execution_count": 32,
   "id": "b5d682a2-657e-4fef-bdb5-4ca299f463f8",
   "metadata": {},
   "outputs": [
    {
     "name": "stdout",
     "output_type": "stream",
     "text": [
      "              precision    recall  f1-score   support\n",
      "\n",
      "           0       0.99      0.99      0.99      2535\n",
      "           1       0.98      0.98      0.98      2199\n",
      "\n",
      "    accuracy                           0.98      4734\n",
      "   macro avg       0.98      0.98      0.98      4734\n",
      "weighted avg       0.98      0.98      0.98      4734\n",
      "\n",
      "Матрица ошибок\n",
      "[[2497   38]\n",
      " [  37 2162]]\n",
      "\n",
      "AUC: 0.9983083578424118\n"
     ]
    }
   ],
   "source": [
    "classifier = KNeighborsClassifier(n_neighbors=gs_results.best_params_['n_neighbors'], weights=gs_results.best_params_['weights'], metric='euclidean')  \n",
    "classifier.fit(X_train_tfidf, y_train)  \n",
    "\n",
    "y_pred_train = classifier.predict(X_train_tfidf) \n",
    "y_pred_test = classifier.predict(X_test_tfidf) \n",
    "y_prob_test = classifier.predict_proba(X_test_tfidf)[:,1]\n",
    "\n",
    "print(classification_report(y_test, y_pred_test))\n",
    "print('Матрица ошибок')\n",
    "print(confusion_matrix(y_test, y_pred_test))\n",
    " \n",
    "fpr_KNN, tpr_KNN, thresholds = metrics.roc_curve(y_test, y_prob_test)\n",
    "roc_auc_KNN = metrics.auc(fpr_KNN, tpr_KNN)\n",
    "print('\\nAUC:', roc_auc_KNN)"
   ]
  },
  {
   "cell_type": "markdown",
   "id": "7066fc94-3f5f-4828-8fbe-36a3163c18eb",
   "metadata": {
    "tags": []
   },
   "source": [
    "#### Naive Bayes"
   ]
  },
  {
   "cell_type": "code",
   "execution_count": 33,
   "id": "31f21d2a-db9f-4fe1-89ad-03cdd7aa4267",
   "metadata": {},
   "outputs": [
    {
     "name": "stdout",
     "output_type": "stream",
     "text": [
      "              precision    recall  f1-score   support\n",
      "\n",
      "           0       0.98      0.99      0.98      2535\n",
      "           1       0.99      0.97      0.98      2199\n",
      "\n",
      "    accuracy                           0.98      4734\n",
      "   macro avg       0.98      0.98      0.98      4734\n",
      "weighted avg       0.98      0.98      0.98      4734\n",
      "\n",
      "Матрица ошибок\n",
      "[[2508   27]\n",
      " [  61 2138]]\n",
      "\n",
      "AUC: 0.9988291253061953\n",
      "Wall time: 132 ms\n"
     ]
    }
   ],
   "source": [
    "%%time\n",
    "classifier = MultinomialNB()  \n",
    "classifier.fit(X_train_tfidf, y_train)  \n",
    "\n",
    "y_pred_train = classifier.predict(X_train_tfidf) \n",
    "y_pred_test = classifier.predict(X_test_tfidf) \n",
    "y_prob_test = classifier.predict_proba(X_test_tfidf)[:,1]\n",
    "\n",
    "print(classification_report(y_test, y_pred_test))\n",
    "print('Матрица ошибок')\n",
    "print(confusion_matrix(y_test, y_pred_test))\n",
    " \n",
    "fpr_NB, tpr_NB, thresholds = metrics.roc_curve(y_test, y_prob_test)\n",
    "roc_auc_NB = metrics.auc(fpr_NB, tpr_NB)\n",
    "print('\\nAUC:', roc_auc_NB)"
   ]
  },
  {
   "cell_type": "markdown",
   "id": "ca3c1c17-455b-4c58-9bcb-01597322294f",
   "metadata": {
    "tags": []
   },
   "source": [
    "#### Decision tree"
   ]
  },
  {
   "cell_type": "code",
   "execution_count": 34,
   "id": "ff2c624e-74b4-4738-b602-acfd7162bd9c",
   "metadata": {},
   "outputs": [
    {
     "name": "stdout",
     "output_type": "stream",
     "text": [
      "Wall time: 8min 55s\n"
     ]
    }
   ],
   "source": [
    "%%time\n",
    "grid_params = {\n",
    "    'max_depth': [x for x in range(1, 30)],\n",
    "    'criterion': ['gini', 'entropy']\n",
    "}\n",
    "\n",
    "gs = GridSearchCV(\n",
    "    DecisionTreeClassifier(random_state=SEED),\n",
    "    grid_params,\n",
    "    scoring='roc_auc',\n",
    "    n_jobs=-1,\n",
    "    cv=5\n",
    ")\n",
    "\n",
    "gs_results = gs.fit(X_train_tfidf, y_train)"
   ]
  },
  {
   "cell_type": "code",
   "execution_count": 35,
   "id": "4a6a55ec-0bc2-4db8-91e8-6d7a75a82d6a",
   "metadata": {},
   "outputs": [
    {
     "data": {
      "text/plain": [
       "{'criterion': 'entropy', 'max_depth': 25}"
      ]
     },
     "execution_count": 35,
     "metadata": {},
     "output_type": "execute_result"
    }
   ],
   "source": [
    "gs_results.best_params_"
   ]
  },
  {
   "cell_type": "code",
   "execution_count": 36,
   "id": "869e0fa4-4279-496e-9473-416ad57c4847",
   "metadata": {},
   "outputs": [
    {
     "name": "stdout",
     "output_type": "stream",
     "text": [
      "              precision    recall  f1-score   support\n",
      "\n",
      "           0       0.97      0.91      0.94      2535\n",
      "           1       0.91      0.97      0.94      2199\n",
      "\n",
      "    accuracy                           0.94      4734\n",
      "   macro avg       0.94      0.94      0.94      4734\n",
      "weighted avg       0.94      0.94      0.94      4734\n",
      "\n",
      "Матрица ошибок\n",
      "[[2318  217]\n",
      " [  63 2136]]\n",
      "\n",
      "AUC: 0.964085073634869\n"
     ]
    }
   ],
   "source": [
    "classifier = DecisionTreeClassifier(max_depth=gs_results.best_params_['max_depth'], criterion=gs_results.best_params_['criterion'], random_state=SEED)  \n",
    "classifier.fit(X_train_tfidf, y_train)  \n",
    "\n",
    "y_pred_train = classifier.predict(X_train_tfidf) \n",
    "y_pred_test = classifier.predict(X_test_tfidf) \n",
    "y_prob_test = classifier.predict_proba(X_test_tfidf)[:,1]\n",
    "\n",
    "print(classification_report(y_test, y_pred_test))\n",
    "print('Матрица ошибок')\n",
    "print(confusion_matrix(y_test, y_pred_test))\n",
    " \n",
    "fpr_CART, tpr_CART, thresholds = metrics.roc_curve(y_test, y_prob_test)\n",
    "roc_auc_CART = metrics.auc(fpr_CART, tpr_CART)\n",
    "print('\\nAUC:', roc_auc_CART)"
   ]
  },
  {
   "cell_type": "markdown",
   "id": "f59adca5-e610-4d33-a423-566b10c7001a",
   "metadata": {
    "tags": []
   },
   "source": [
    "#### SVM"
   ]
  },
  {
   "cell_type": "code",
   "execution_count": 37,
   "id": "1a759689-cd7f-4828-9d6a-c2f0ebbf1933",
   "metadata": {},
   "outputs": [
    {
     "name": "stdout",
     "output_type": "stream",
     "text": [
      "Wall time: 23min 15s\n"
     ]
    }
   ],
   "source": [
    "%%time\n",
    "grid_params = {\n",
    "    'C': [1], \n",
    "    'gamma': ['auto'],\n",
    "    'kernel': ['linear']\n",
    "}\n",
    "\n",
    "gs = GridSearchCV(\n",
    "    SVC(probability=True, random_state=SEED),\n",
    "    grid_params,\n",
    "    scoring='roc_auc',\n",
    "    n_jobs=-1,\n",
    "    cv=5\n",
    ")\n",
    "\n",
    "gs_results = gs.fit(X_train_tfidf, y_train)"
   ]
  },
  {
   "cell_type": "code",
   "execution_count": 38,
   "id": "8f604286-3c45-42ee-99b0-f8656b1d2cb3",
   "metadata": {},
   "outputs": [
    {
     "data": {
      "text/plain": [
       "{'C': 1, 'gamma': 'auto', 'kernel': 'linear'}"
      ]
     },
     "execution_count": 38,
     "metadata": {},
     "output_type": "execute_result"
    }
   ],
   "source": [
    "gs_results.best_params_"
   ]
  },
  {
   "cell_type": "code",
   "execution_count": 39,
   "id": "940eeb22-d58b-40e0-9d49-21918b40ef14",
   "metadata": {},
   "outputs": [
    {
     "name": "stdout",
     "output_type": "stream",
     "text": [
      "              precision    recall  f1-score   support\n",
      "\n",
      "           0       0.99      0.99      0.99      2535\n",
      "           1       0.98      0.99      0.99      2199\n",
      "\n",
      "    accuracy                           0.99      4734\n",
      "   macro avg       0.99      0.99      0.99      4734\n",
      "weighted avg       0.99      0.99      0.99      4734\n",
      "\n",
      "Матрица ошибок\n",
      "[[2501   34]\n",
      " [  15 2184]]\n",
      "\n",
      "AUC: 0.9992649518832749\n"
     ]
    }
   ],
   "source": [
    "classifier = SVC(C=gs_results.best_params_['C'], \n",
    "                 gamma=gs_results.best_params_['gamma'],\n",
    "                 kernel=gs_results.best_params_['kernel'],\n",
    "                 probability=True,\n",
    "                 random_state=SEED)  \n",
    "classifier.fit(X_train_tfidf, y_train)  \n",
    "\n",
    "y_pred_train = classifier.predict(X_train_tfidf) \n",
    "y_pred_test = classifier.predict(X_test_tfidf) \n",
    "y_prob_test = classifier.predict_proba(X_test_tfidf)[:,1]\n",
    "\n",
    "print(classification_report(y_test, y_pred_test))\n",
    "print('Матрица ошибок')\n",
    "print(confusion_matrix(y_test, y_pred_test))\n",
    " \n",
    "fpr_SVM, tpr_SVM, thresholds = metrics.roc_curve(y_test, y_prob_test)\n",
    "roc_auc_SVM = metrics.auc(fpr_SVM, tpr_SVM)\n",
    "print('\\nAUC:', roc_auc_SVM)"
   ]
  },
  {
   "cell_type": "markdown",
   "id": "1f8635d0-4553-45c6-ba90-ad694114b21b",
   "metadata": {
    "tags": []
   },
   "source": [
    "#### Random Forest"
   ]
  },
  {
   "cell_type": "code",
   "execution_count": 40,
   "id": "5d17df37-1468-49bb-8f28-e526c77ac033",
   "metadata": {},
   "outputs": [
    {
     "name": "stdout",
     "output_type": "stream",
     "text": [
      "Wall time: 3min 13s\n"
     ]
    }
   ],
   "source": [
    "%%time\n",
    "grid_params = {\n",
    "    'n_estimators': [10, 20, 30, 40, 50],      \n",
    "    'max_depth': [x for x in range(1, 11)],\n",
    "    'criterion': ['gini', 'entropy']\n",
    "}\n",
    "\n",
    "gs = GridSearchCV(\n",
    "    RandomForestClassifier(random_state=SEED, max_samples=0.66),\n",
    "    grid_params,\n",
    "    scoring='roc_auc',\n",
    "    n_jobs=-1,\n",
    "    cv=5\n",
    ")\n",
    "\n",
    "gs_results = gs.fit(X_train_tfidf, y_train)"
   ]
  },
  {
   "cell_type": "code",
   "execution_count": 41,
   "id": "e00759cf-593f-40ea-b805-6678ed38cec7",
   "metadata": {},
   "outputs": [
    {
     "data": {
      "text/plain": [
       "{'criterion': 'entropy', 'max_depth': 10, 'n_estimators': 50}"
      ]
     },
     "execution_count": 41,
     "metadata": {},
     "output_type": "execute_result"
    }
   ],
   "source": [
    "gs_results.best_params_"
   ]
  },
  {
   "cell_type": "code",
   "execution_count": 42,
   "id": "3cafe149-ac45-492c-a9dc-8d95af0a2b78",
   "metadata": {},
   "outputs": [
    {
     "name": "stdout",
     "output_type": "stream",
     "text": [
      "              precision    recall  f1-score   support\n",
      "\n",
      "           0       0.81      0.99      0.89      2535\n",
      "           1       0.99      0.74      0.85      2199\n",
      "\n",
      "    accuracy                           0.87      4734\n",
      "   macro avg       0.90      0.87      0.87      4734\n",
      "weighted avg       0.90      0.87      0.87      4734\n",
      "\n",
      "Матрица ошибок\n",
      "[[2521   14]\n",
      " [ 578 1621]]\n",
      "\n",
      "AUC: 0.988518987920814\n"
     ]
    }
   ],
   "source": [
    "classifier = RandomForestClassifier(n_estimators=gs_results.best_params_['n_estimators'], \n",
    "                                    max_depth=gs_results.best_params_['max_depth'],\n",
    "                                    criterion=gs_results.best_params_['criterion'],\n",
    "                                    random_state=SEED,\n",
    "                                    max_samples=0.66)  \n",
    "classifier.fit(X_train_tfidf, y_train)  \n",
    "\n",
    "y_pred_train = classifier.predict(X_train_tfidf) \n",
    "y_pred_test = classifier.predict(X_test_tfidf) \n",
    "y_prob_test = classifier.predict_proba(X_test_tfidf)[:,1]\n",
    "\n",
    "print(classification_report(y_test, y_pred_test))\n",
    "print('Матрица ошибок')\n",
    "print(confusion_matrix(y_test, y_pred_test))\n",
    " \n",
    "fpr_RF, tpr_RF, thresholds = metrics.roc_curve(y_test, y_prob_test)\n",
    "roc_auc_RF = metrics.auc(fpr_RF, tpr_RF)\n",
    "print('\\nAUC:', roc_auc_RF)"
   ]
  },
  {
   "cell_type": "markdown",
   "id": "7e18d7e7-47d7-4263-af18-2d1cbe9fc96b",
   "metadata": {
    "tags": []
   },
   "source": [
    "#### Logistic regression"
   ]
  },
  {
   "cell_type": "code",
   "execution_count": 43,
   "id": "97424ace-4632-4689-a88f-4889c3427d8f",
   "metadata": {},
   "outputs": [
    {
     "name": "stdout",
     "output_type": "stream",
     "text": [
      "Wall time: 29.5 s\n"
     ]
    }
   ],
   "source": [
    "%%time\n",
    "grid_params = {\n",
    "    'C': np.logspace(-3, 3, 7), \n",
    "    'penalty': ['l1', 'l2']\n",
    "}\n",
    "\n",
    "gs = GridSearchCV(\n",
    "    LogisticRegression(random_state=SEED),\n",
    "    grid_params,\n",
    "    scoring='roc_auc',\n",
    "    n_jobs=-1,\n",
    "    cv=5\n",
    ")\n",
    "\n",
    "gs_results = gs.fit(X_train_tfidf, y_train)"
   ]
  },
  {
   "cell_type": "code",
   "execution_count": 44,
   "id": "a48213ef-dd3c-44d2-bea4-fb656294fc2a",
   "metadata": {},
   "outputs": [
    {
     "data": {
      "text/plain": [
       "{'C': 100.0, 'penalty': 'l2'}"
      ]
     },
     "execution_count": 44,
     "metadata": {},
     "output_type": "execute_result"
    }
   ],
   "source": [
    "gs_results.best_params_"
   ]
  },
  {
   "cell_type": "code",
   "execution_count": 45,
   "id": "22307928-5c94-455d-b2e5-be9cfa88bbcf",
   "metadata": {},
   "outputs": [
    {
     "name": "stdout",
     "output_type": "stream",
     "text": [
      "              precision    recall  f1-score   support\n",
      "\n",
      "           0       0.99      0.99      0.99      2535\n",
      "           1       0.99      0.99      0.99      2199\n",
      "\n",
      "    accuracy                           0.99      4734\n",
      "   macro avg       0.99      0.99      0.99      4734\n",
      "weighted avg       0.99      0.99      0.99      4734\n",
      "\n",
      "Матрица ошибок\n",
      "[[2509   26]\n",
      " [  16 2183]]\n",
      "\n",
      "AUC: 0.9994128584536811\n"
     ]
    }
   ],
   "source": [
    "classifier = LogisticRegression(C=gs_results.best_params_['C'], \n",
    "                                penalty=gs_results.best_params_['penalty'],\n",
    "                                random_state=SEED)  \n",
    "classifier.fit(X_train_tfidf, y_train)  \n",
    "\n",
    "y_pred_train = classifier.predict(X_train_tfidf) \n",
    "y_pred_test = classifier.predict(X_test_tfidf) \n",
    "y_prob_test = classifier.predict_proba(X_test_tfidf)[:,1]\n",
    "\n",
    "print(classification_report(y_test, y_pred_test))\n",
    "print('Матрица ошибок')\n",
    "print(confusion_matrix(y_test, y_pred_test))\n",
    " \n",
    "fpr_LR, tpr_LR, thresholds = metrics.roc_curve(y_test, y_prob_test)\n",
    "roc_auc_LR = metrics.auc(fpr_LR, tpr_LR)\n",
    "print('\\nAUC:', roc_auc_LR)"
   ]
  },
  {
   "cell_type": "markdown",
   "id": "dc7325ae-662d-4796-8dd3-7fb3182578cf",
   "metadata": {},
   "source": [
    "### Обучение моделей с комбинированными данными"
   ]
  },
  {
   "cell_type": "markdown",
   "id": "67bd8145-1ff3-487d-b042-637d43e64202",
   "metadata": {
    "tags": []
   },
   "source": [
    "#### KNN"
   ]
  },
  {
   "cell_type": "code",
   "execution_count": 46,
   "id": "39ef0339-35a3-4e66-95d5-2c10bdb9a79f",
   "metadata": {},
   "outputs": [
    {
     "name": "stdout",
     "output_type": "stream",
     "text": [
      "{'metric': 'euclidean', 'n_neighbors': 10, 'weights': 'distance'}\n",
      "              precision    recall  f1-score   support\n",
      "\n",
      "           0       0.98      0.98      0.98      2535\n",
      "           1       0.98      0.98      0.98      2199\n",
      "\n",
      "    accuracy                           0.98      4734\n",
      "   macro avg       0.98      0.98      0.98      4734\n",
      "weighted avg       0.98      0.98      0.98      4734\n",
      "\n",
      "Матрица ошибок\n",
      "[[2495   40]\n",
      " [  47 2152]]\n",
      "\n",
      "AUC: 0.9980386458610826\n",
      "Wall time: 4min 51s\n"
     ]
    }
   ],
   "source": [
    "%%time\n",
    "grid_params = {\n",
    "    'n_neighbors': [x for x in range(5, 11)],\n",
    "    'weights': ['uniform', 'distance'],\n",
    "    'metric': ['euclidean']\n",
    "}\n",
    "\n",
    "gs = GridSearchCV(\n",
    "    KNeighborsClassifier(),\n",
    "    grid_params,\n",
    "    scoring='roc_auc',\n",
    "    n_jobs=-1,\n",
    "    cv=5\n",
    ")\n",
    "\n",
    "gs_results = gs.fit(X_comb_train_res, y_train)\n",
    "print(gs_results.best_params_)\n",
    "\n",
    "classifier = KNeighborsClassifier(n_neighbors=gs_results.best_params_['n_neighbors'], weights=gs_results.best_params_['weights'], metric='euclidean')  \n",
    "classifier.fit(X_comb_train_res, y_train)  \n",
    "\n",
    "y_pred_train = classifier.predict(X_comb_train_res) \n",
    "y_pred_test = classifier.predict(X_comb_test_res) \n",
    "y_prob_test = classifier.predict_proba(X_comb_test_res)[:,1]\n",
    "\n",
    "print(classification_report(y_test, y_pred_test))\n",
    "print('Матрица ошибок')\n",
    "print(confusion_matrix(y_test, y_pred_test))\n",
    " \n",
    "fpr_KNNc, tpr_KNNc, thresholds = metrics.roc_curve(y_test, y_prob_test)\n",
    "roc_auc_KNNc = metrics.auc(fpr_KNNc, tpr_KNNc)\n",
    "print('\\nAUC:', roc_auc_KNNc)"
   ]
  },
  {
   "cell_type": "markdown",
   "id": "a8b7b4d1-07c3-4fec-9d6a-963a334d072a",
   "metadata": {
    "tags": []
   },
   "source": [
    "#### Naive Bayes"
   ]
  },
  {
   "cell_type": "code",
   "execution_count": 47,
   "id": "bb5eff11-083a-4c21-a45e-0caa225467f1",
   "metadata": {},
   "outputs": [
    {
     "name": "stdout",
     "output_type": "stream",
     "text": [
      "              precision    recall  f1-score   support\n",
      "\n",
      "           0       0.98      0.99      0.98      2535\n",
      "           1       0.99      0.97      0.98      2199\n",
      "\n",
      "    accuracy                           0.98      4734\n",
      "   macro avg       0.98      0.98      0.98      4734\n",
      "weighted avg       0.98      0.98      0.98      4734\n",
      "\n",
      "Матрица ошибок\n",
      "[[2512   23]\n",
      " [  63 2136]]\n",
      "\n",
      "AUC: 0.9988391711132817\n",
      "Wall time: 484 ms\n"
     ]
    }
   ],
   "source": [
    "%%time\n",
    "classifier = MultinomialNB()  \n",
    "classifier.fit(X_comb_train_res, y_train)  \n",
    "\n",
    "y_pred_train = classifier.predict(X_comb_train_res) \n",
    "y_pred_test = classifier.predict(X_comb_test_res) \n",
    "y_prob_test = classifier.predict_proba(X_comb_test_res)[:,1]\n",
    "\n",
    "print(classification_report(y_test, y_pred_test))\n",
    "print('Матрица ошибок')\n",
    "print(confusion_matrix(y_test, y_pred_test))\n",
    " \n",
    "fpr_NBc, tpr_NBc, thresholds = metrics.roc_curve(y_test, y_prob_test)\n",
    "roc_auc_NBc = metrics.auc(fpr_NBc, tpr_NBc)\n",
    "print('\\nAUC:', roc_auc_NBc)"
   ]
  },
  {
   "cell_type": "markdown",
   "id": "428eb26e-d345-46a1-90d6-7b260863824f",
   "metadata": {
    "tags": []
   },
   "source": [
    "#### Decision tree"
   ]
  },
  {
   "cell_type": "code",
   "execution_count": 48,
   "id": "177012e9-9130-46d0-9bf4-453e0ee05ae9",
   "metadata": {},
   "outputs": [
    {
     "name": "stdout",
     "output_type": "stream",
     "text": [
      "{'criterion': 'entropy', 'max_depth': 25}\n",
      "              precision    recall  f1-score   support\n",
      "\n",
      "           0       0.98      0.92      0.94      2535\n",
      "           1       0.91      0.97      0.94      2199\n",
      "\n",
      "    accuracy                           0.94      4734\n",
      "   macro avg       0.94      0.94      0.94      4734\n",
      "weighted avg       0.94      0.94      0.94      4734\n",
      "\n",
      "Матрица ошибок\n",
      "[[2323  212]\n",
      " [  59 2140]]\n",
      "\n",
      "AUC: 0.9710065450227062\n",
      "Wall time: 10min 30s\n"
     ]
    }
   ],
   "source": [
    "%%time\n",
    "grid_params = {\n",
    "    'max_depth': [x for x in range(1, 30)],\n",
    "    'criterion': ['gini', 'entropy']\n",
    "}\n",
    "\n",
    "gs = GridSearchCV(\n",
    "    DecisionTreeClassifier(random_state=SEED),\n",
    "    grid_params,\n",
    "    scoring='roc_auc',\n",
    "    n_jobs=-1,\n",
    "    cv=5\n",
    ")\n",
    "\n",
    "gs_results = gs.fit(X_comb_train_res, y_train)\n",
    "print(gs_results.best_params_)\n",
    "\n",
    "classifier = DecisionTreeClassifier(max_depth=gs_results.best_params_['max_depth'], criterion=gs_results.best_params_['criterion'], random_state=SEED)  \n",
    "classifier.fit(X_comb_train_res, y_train)  \n",
    "\n",
    "y_pred_train = classifier.predict(X_comb_train_res) \n",
    "y_pred_test = classifier.predict(X_comb_test_res) \n",
    "y_prob_test = classifier.predict_proba(X_comb_test_res)[:,1]\n",
    "\n",
    "print(classification_report(y_test, y_pred_test))\n",
    "print('Матрица ошибок')\n",
    "print(confusion_matrix(y_test, y_pred_test))\n",
    " \n",
    "fpr_CARTc, tpr_CARTc, thresholds = metrics.roc_curve(y_test, y_prob_test)\n",
    "roc_auc_CARTc = metrics.auc(fpr_CARTc, tpr_CARTc)\n",
    "print('\\nAUC:', roc_auc_CARTc)"
   ]
  },
  {
   "cell_type": "markdown",
   "id": "e6e1c4d4-4d12-462e-87bd-935498ca5d25",
   "metadata": {
    "tags": []
   },
   "source": [
    "#### SVM"
   ]
  },
  {
   "cell_type": "code",
   "execution_count": 49,
   "id": "c73b2e37-1c81-444e-86ab-8b9957f04d02",
   "metadata": {},
   "outputs": [
    {
     "name": "stdout",
     "output_type": "stream",
     "text": [
      "{'C': 1, 'gamma': 'auto', 'kernel': 'linear'}\n",
      "              precision    recall  f1-score   support\n",
      "\n",
      "           0       1.00      0.99      0.99      2535\n",
      "           1       0.99      0.99      0.99      2199\n",
      "\n",
      "    accuracy                           0.99      4734\n",
      "   macro avg       0.99      0.99      0.99      4734\n",
      "weighted avg       0.99      0.99      0.99      4734\n",
      "\n",
      "Матрица ошибок\n",
      "[[2504   31]\n",
      " [  12 2187]]\n",
      "\n",
      "AUC: 0.9994856905550578\n",
      "Wall time: 36min 35s\n"
     ]
    }
   ],
   "source": [
    "%%time\n",
    "grid_params = {\n",
    "    'C': [1], \n",
    "    'gamma': ['auto'],\n",
    "    'kernel': ['linear']\n",
    "}\n",
    "\n",
    "gs = GridSearchCV(\n",
    "    SVC(probability=True, random_state=SEED),\n",
    "    grid_params,\n",
    "    scoring='roc_auc',\n",
    "    n_jobs=-1,\n",
    "    cv=5\n",
    ")\n",
    "\n",
    "gs_results = gs.fit(X_comb_train_res, y_train)\n",
    "print(gs_results.best_params_)\n",
    "\n",
    "classifier = SVC(C=gs_results.best_params_['C'], \n",
    "                 gamma=gs_results.best_params_['gamma'],\n",
    "                 kernel=gs_results.best_params_['kernel'],\n",
    "                 probability=True,\n",
    "                 random_state=SEED)  \n",
    "classifier.fit(X_comb_train_res, y_train)  \n",
    "\n",
    "y_pred_train = classifier.predict(X_comb_train_res) \n",
    "y_pred_test = classifier.predict(X_comb_test_res) \n",
    "y_prob_test = classifier.predict_proba(X_comb_test_res)[:,1]\n",
    "\n",
    "print(classification_report(y_test, y_pred_test))\n",
    "print('Матрица ошибок')\n",
    "print(confusion_matrix(y_test, y_pred_test))\n",
    " \n",
    "fpr_SVMc, tpr_SVMc, thresholds = metrics.roc_curve(y_test, y_prob_test)\n",
    "roc_auc_SVMc = metrics.auc(fpr_SVMc, tpr_SVMc)\n",
    "print('\\nAUC:', roc_auc_SVMc)"
   ]
  },
  {
   "cell_type": "markdown",
   "id": "3f7d8e6b-36bc-46d1-a7c8-fd055c236c14",
   "metadata": {
    "tags": []
   },
   "source": [
    "#### Random Forest"
   ]
  },
  {
   "cell_type": "code",
   "execution_count": 50,
   "id": "29a7e979-9fbb-4e45-adea-cf62a011dec3",
   "metadata": {},
   "outputs": [
    {
     "name": "stdout",
     "output_type": "stream",
     "text": [
      "{'criterion': 'gini', 'max_depth': 10, 'n_estimators': 50}\n",
      "              precision    recall  f1-score   support\n",
      "\n",
      "           0       0.84      0.99      0.91      2535\n",
      "           1       0.99      0.79      0.88      2199\n",
      "\n",
      "    accuracy                           0.90      4734\n",
      "   macro avg       0.91      0.89      0.89      4734\n",
      "weighted avg       0.91      0.90      0.89      4734\n",
      "\n",
      "Матрица ошибок\n",
      "[[2511   24]\n",
      " [ 469 1730]]\n",
      "\n",
      "AUC: 0.9897125553752693\n",
      "Wall time: 3min 35s\n"
     ]
    }
   ],
   "source": [
    "%%time\n",
    "grid_params = {\n",
    "    'n_estimators': [10, 20, 30, 40, 50],      \n",
    "    'max_depth': [x for x in range(1, 11)],\n",
    "    'criterion': ['gini', 'entropy']\n",
    "}\n",
    "\n",
    "gs = GridSearchCV(\n",
    "    RandomForestClassifier(random_state=SEED, max_samples=0.66),\n",
    "    grid_params,\n",
    "    scoring='roc_auc',\n",
    "    n_jobs=-1,\n",
    "    cv=5\n",
    ")\n",
    "\n",
    "gs_results = gs.fit(X_comb_train_res, y_train)\n",
    "print(gs_results.best_params_)\n",
    "\n",
    "classifier = RandomForestClassifier(n_estimators=gs_results.best_params_['n_estimators'], \n",
    "                                    max_depth=gs_results.best_params_['max_depth'],\n",
    "                                    criterion=gs_results.best_params_['criterion'],\n",
    "                                    random_state=SEED,\n",
    "                                    max_samples=0.66)  \n",
    "classifier.fit(X_comb_train_res, y_train)  \n",
    "\n",
    "y_pred_train = classifier.predict(X_comb_train_res) \n",
    "y_pred_test = classifier.predict(X_comb_test_res) \n",
    "y_prob_test = classifier.predict_proba(X_comb_test_res)[:,1]\n",
    "\n",
    "print(classification_report(y_test, y_pred_test))\n",
    "print('Матрица ошибок')\n",
    "print(confusion_matrix(y_test, y_pred_test))\n",
    " \n",
    "fpr_RFc, tpr_RFc, thresholds = metrics.roc_curve(y_test, y_prob_test)\n",
    "roc_auc_RFc = metrics.auc(fpr_RFc, tpr_RFc)\n",
    "print('\\nAUC:', roc_auc_RFc)"
   ]
  },
  {
   "cell_type": "markdown",
   "id": "1fdbba8b-8ffb-4981-bbd5-228a6741775f",
   "metadata": {},
   "source": [
    "#### Logistic regression"
   ]
  },
  {
   "cell_type": "code",
   "execution_count": 51,
   "id": "9f960051-c804-40a4-9326-9f84759dc99d",
   "metadata": {},
   "outputs": [
    {
     "name": "stdout",
     "output_type": "stream",
     "text": [
      "{'C': 100.0, 'penalty': 'l2'}\n",
      "              precision    recall  f1-score   support\n",
      "\n",
      "           0       1.00      0.99      0.99      2535\n",
      "           1       0.99      0.99      0.99      2199\n",
      "\n",
      "    accuracy                           0.99      4734\n",
      "   macro avg       0.99      0.99      0.99      4734\n",
      "weighted avg       0.99      0.99      0.99      4734\n",
      "\n",
      "Матрица ошибок\n",
      "[[2512   23]\n",
      " [  12 2187]]\n",
      "\n",
      "AUC: 0.9995242592786932\n",
      "Wall time: 39.4 s\n"
     ]
    }
   ],
   "source": [
    "%%time\n",
    "grid_params = {\n",
    "    'C': np.logspace(-3, 3, 7), \n",
    "    'penalty': ['l1', 'l2']\n",
    "}\n",
    "\n",
    "gs = GridSearchCV(\n",
    "    LogisticRegression(random_state=SEED),\n",
    "    grid_params,\n",
    "    scoring='roc_auc',\n",
    "    n_jobs=-1,\n",
    "    cv=5\n",
    ")\n",
    "\n",
    "gs_results = gs.fit(X_comb_train_res, y_train)\n",
    "print(gs_results.best_params_)\n",
    "\n",
    "classifier = LogisticRegression(C=gs_results.best_params_['C'], \n",
    "                                penalty=gs_results.best_params_['penalty'],\n",
    "                                random_state=SEED)  \n",
    "classifier.fit(X_comb_train_res, y_train)  \n",
    "\n",
    "y_pred_train = classifier.predict(X_comb_train_res) \n",
    "y_pred_test = classifier.predict(X_comb_test_res) \n",
    "y_prob_test = classifier.predict_proba(X_comb_test_res)[:,1]\n",
    "\n",
    "print(classification_report(y_test, y_pred_test))\n",
    "print('Матрица ошибок')\n",
    "print(confusion_matrix(y_test, y_pred_test))\n",
    " \n",
    "fpr_LRc, tpr_LRc, thresholds = metrics.roc_curve(y_test, y_prob_test)\n",
    "roc_auc_LRc = metrics.auc(fpr_LRc, tpr_LRc)\n",
    "print('\\nAUC:', roc_auc_LRc)"
   ]
  },
  {
   "cell_type": "markdown",
   "id": "4dad9137-d397-43ca-bc93-dbc9ececd9bb",
   "metadata": {},
   "source": [
    "### Результаты"
   ]
  },
  {
   "cell_type": "code",
   "execution_count": 52,
   "id": "d2150d59-bb33-44bd-a7be-b931b87ab709",
   "metadata": {},
   "outputs": [
    {
     "data": {
      "image/png": "[encoded data removed]",
      "text/plain": [
       "<Figure size 1224x576 with 1 Axes>"
      ]
     },
     "metadata": {
      "needs_background": "light"
     },
     "output_type": "display_data"
    }
   ],
   "source": [
    "fig, axes = plt.subplots(figsize=(17, 8))\n",
    "plt.plot(fpr_KNN, tpr_KNN, label=f'AUC KNN={roc_auc_KNN:.7f}')\n",
    "plt.plot(fpr_NB, tpr_NB, label=f'AUC NB={roc_auc_NB:.7f}')\n",
    "plt.plot(fpr_CART, tpr_CART, label=f'AUC DT={roc_auc_CART:.7f}')\n",
    "plt.plot(fpr_SVM, tpr_SVM, label=f'AUC SVM={roc_auc_SVM:.7f}')\n",
    "plt.plot(fpr_RF, tpr_RF, label=f'AUC RF={roc_auc_RF:.7f}')\n",
    "plt.plot(fpr_LR, tpr_LR, label=f'AUC LR={roc_auc_LR:.7f}')\n",
    "plt.ylabel('True Positive Rate', fontsize=16)\n",
    "plt.xlabel('False Positive Rate', fontsize=16)\n",
    "axes.set_title('ROC-кривая', fontsize=19)\n",
    "plt.legend(loc=4, fontsize=16)\n",
    "plt.show()"
   ]
  },
  {
   "cell_type": "code",
   "execution_count": 53,
   "id": "76146b0b-0459-4f36-a05f-c2f7b4971cdf",
   "metadata": {},
   "outputs": [
    {
     "data": {
      "image/png": "[encoded data removed]",
      "text/plain": [
       "<Figure size 1224x576 with 1 Axes>"
      ]
     },
     "metadata": {
      "needs_background": "light"
     },
     "output_type": "display_data"
    }
   ],
   "source": [
    "fig, axes = plt.subplots(figsize=(17, 8))\n",
    "plt.plot(fpr_KNNc, tpr_KNNc, label=f'AUC KNN={roc_auc_KNNc:.7f}')\n",
    "plt.plot(fpr_NBc, tpr_NBc, label=f'AUC NB={roc_auc_NBc:.7f}')\n",
    "plt.plot(fpr_CARTc, tpr_CARTc, label=f'AUC DT={roc_auc_CARTc:.7f}')\n",
    "plt.plot(fpr_SVMc, tpr_SVMc, label=f'AUC SVM={roc_auc_SVMc:.7f}')\n",
    "plt.plot(fpr_RFc, tpr_RFc, label=f'AUC RF={roc_auc_RFc:.7f}')\n",
    "plt.plot(fpr_LRc, tpr_LRc, label=f'AUC LR={roc_auc_LRc:.7f}')\n",
    "plt.ylabel('True Positive Rate', fontsize=16)\n",
    "plt.xlabel('False Positive Rate', fontsize=16)\n",
    "axes.set_title('ROC-кривая для моделей с комбинированными данными', fontsize=16)\n",
    "plt.legend(loc=4, fontsize=16)\n",
    "plt.show()"
   ]
  },
  {
   "cell_type": "markdown",
   "id": "fe221e77-464f-4399-ba8f-aa926f82c4ac",
   "metadata": {},
   "source": [
    "На графиках изображены roc-кривые и значения auc для всех алгоритмов классификации. Их расположение относительно друг друга указывает на эффективность алгоритма. Кривая, которая расположена левее и выше, указывает на большую предсказательную силу модели. Из графиков видно, что алгоритмы логистическая регрессия и метод опорных векторов показали лучшие результаты. \n",
    "\n",
    "Добавление признаков улучшает работу 5 алгоритмов из 6. Скорее всего, качество метода ближайших соседей упало из-за наличия неинформативных переменных."
   ]
  },
  {
   "cell_type": "markdown",
   "id": "d8c472ee-a71b-4560-bce3-12563d7dd45e",
   "metadata": {
    "tags": []
   },
   "source": [
    "### Выводы"
   ]
  },
  {
   "cell_type": "markdown",
   "id": "b091af89-f661-44db-ac3e-ac13ac164516",
   "metadata": {},
   "source": [
    "Таким образом, спам остается важной проблемой, с которой регулярно сталкивается пользователь. В данной работе, используя размеченный набор данных, который состоял из 31715 объектов, было показано, что алгоритмы машинного обучения показывают высокую точность в задаче обнаружения спама. Лучшую точность показали два алгоритма: метод опорных векторов и логистическая регрессия. Значения метрики auc равны 0,999. Также в работе было показано, что использование метаданных письма позволяет повысить качество работы алгоритмов. Для повышения качества были использованы следующие сгенерированные признаки: количество писем отправленных за час, количество токенов в контенте письма, день недели, временной промежуток, наличие темы и тела письма. \n",
    "\n",
    "В данной работе уже была получена высокая точность классификации, однако существует ряд методов, которые могут еще улучшить качество. Например, для векторизации текста можно попробовать использовать предобученные вектора Word2vec. Также же можно попробовать применить нейронные сети например, BERT. \n"
   ]
  }
 ],
 "metadata": {
  "kernelspec": {
   "display_name": "Python 3 (ipykernel)",
   "language": "python",
   "name": "python3"
  },
  "language_info": {
   "codemirror_mode": {
    "name": "ipython",
    "version": 3
   },
   "file_extension": ".py",
   "mimetype": "text/x-python",
   "name": "python",
   "nbconvert_exporter": "python",
   "pygments_lexer": "ipython3",
   "version": "3.9.7"
  }
 },
 "nbformat": 4,
 "nbformat_minor": 5
}
